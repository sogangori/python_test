{
 "cells": [
  {
   "cell_type": "code",
   "execution_count": 28,
   "metadata": {},
   "outputs": [],
   "source": [
    "import pandas as pd\n",
    "import numpy as np\n",
    "import matplotlib.pyplot as plt"
   ]
  },
  {
   "cell_type": "code",
   "execution_count": 60,
   "metadata": {},
   "outputs": [
    {
     "data": {
      "text/plain": [
       "(4521, 17)"
      ]
     },
     "execution_count": 60,
     "metadata": {},
     "output_type": "execute_result"
    }
   ],
   "source": [
    "df = pd.read_csv('C:/Users/user/Downloads/bank/bank.csv', sep=';')\n",
    "df.shape"
   ]
  },
  {
   "cell_type": "code",
   "execution_count": 61,
   "metadata": {
    "scrolled": false
   },
   "outputs": [
    {
     "data": {
      "text/html": [
       "<div>\n",
       "<style scoped>\n",
       "    .dataframe tbody tr th:only-of-type {\n",
       "        vertical-align: middle;\n",
       "    }\n",
       "\n",
       "    .dataframe tbody tr th {\n",
       "        vertical-align: top;\n",
       "    }\n",
       "\n",
       "    .dataframe thead th {\n",
       "        text-align: right;\n",
       "    }\n",
       "</style>\n",
       "<table border=\"1\" class=\"dataframe\">\n",
       "  <thead>\n",
       "    <tr style=\"text-align: right;\">\n",
       "      <th></th>\n",
       "      <th>age</th>\n",
       "      <th>job</th>\n",
       "      <th>marital</th>\n",
       "      <th>education</th>\n",
       "      <th>default</th>\n",
       "      <th>balance</th>\n",
       "      <th>housing</th>\n",
       "      <th>loan</th>\n",
       "      <th>contact</th>\n",
       "      <th>day</th>\n",
       "      <th>month</th>\n",
       "      <th>duration</th>\n",
       "      <th>campaign</th>\n",
       "      <th>pdays</th>\n",
       "      <th>previous</th>\n",
       "      <th>poutcome</th>\n",
       "      <th>y</th>\n",
       "    </tr>\n",
       "  </thead>\n",
       "  <tbody>\n",
       "    <tr>\n",
       "      <th>0</th>\n",
       "      <td>30</td>\n",
       "      <td>unemployed</td>\n",
       "      <td>married</td>\n",
       "      <td>primary</td>\n",
       "      <td>no</td>\n",
       "      <td>1787</td>\n",
       "      <td>no</td>\n",
       "      <td>no</td>\n",
       "      <td>cellular</td>\n",
       "      <td>19</td>\n",
       "      <td>oct</td>\n",
       "      <td>79</td>\n",
       "      <td>1</td>\n",
       "      <td>-1</td>\n",
       "      <td>0</td>\n",
       "      <td>unknown</td>\n",
       "      <td>no</td>\n",
       "    </tr>\n",
       "  </tbody>\n",
       "</table>\n",
       "</div>"
      ],
      "text/plain": [
       "   age         job  marital education default  balance housing loan   contact  \\\n",
       "0   30  unemployed  married   primary      no     1787      no   no  cellular   \n",
       "\n",
       "   day month  duration  campaign  pdays  previous poutcome   y  \n",
       "0   19   oct        79         1     -1         0  unknown  no  "
      ]
     },
     "execution_count": 61,
     "metadata": {},
     "output_type": "execute_result"
    }
   ],
   "source": [
    "df.head(1)"
   ]
  },
  {
   "cell_type": "code",
   "execution_count": 62,
   "metadata": {},
   "outputs": [
    {
     "data": {
      "text/plain": [
       "Index(['age', 'job', 'marital', 'education', 'default', 'balance', 'housing',\n",
       "       'loan', 'contact', 'day', 'month', 'duration', 'campaign', 'pdays',\n",
       "       'previous', 'poutcome', 'y'],\n",
       "      dtype='object')"
      ]
     },
     "execution_count": 62,
     "metadata": {},
     "output_type": "execute_result"
    }
   ],
   "source": [
    "df.columns"
   ]
  },
  {
   "cell_type": "code",
   "execution_count": 63,
   "metadata": {},
   "outputs": [
    {
     "data": {
      "text/plain": [
       "0"
      ]
     },
     "execution_count": 63,
     "metadata": {},
     "output_type": "execute_result"
    }
   ],
   "source": [
    "df.isna().sum().sum()"
   ]
  },
  {
   "cell_type": "code",
   "execution_count": 68,
   "metadata": {},
   "outputs": [
    {
     "data": {
      "text/plain": [
       "<matplotlib.axes._subplots.AxesSubplot at 0x2020645d7f0>"
      ]
     },
     "execution_count": 68,
     "metadata": {},
     "output_type": "execute_result"
    },
    {
     "data": {
      "image/png": "[encoded data removed]",
      "text/plain": [
       "<Figure size 432x288 with 1 Axes>"
      ]
     },
     "metadata": {
      "needs_background": "light"
     },
     "output_type": "display_data"
    }
   ],
   "source": [
    "df.groupby('job').mean()['balance'].plot.barh() #직업별로 예금이 얼마나 있을까?"
   ]
  },
  {
   "cell_type": "code",
   "execution_count": 51,
   "metadata": {},
   "outputs": [],
   "source": [
    "#df.y = df.y.map({'yes':1, 'no':0}) # 카테고리가 딱 2개일 때만 사용"
   ]
  },
  {
   "cell_type": "code",
   "execution_count": 55,
   "metadata": {},
   "outputs": [],
   "source": [
    "df = pd.get_dummies(df) # 원핫 인코딩 \n",
    "#x = df.drop(columns='y')\n",
    "x = df.iloc[:, :-2]\n",
    "y = df.y_yes"
   ]
  },
  {
   "cell_type": "code",
   "execution_count": 25,
   "metadata": {},
   "outputs": [
    {
     "data": {
      "text/plain": [
       "0.9046671090466711"
      ]
     },
     "execution_count": 25,
     "metadata": {},
     "output_type": "execute_result"
    }
   ],
   "source": [
    "from sklearn.tree import DecisionTreeClassifier\n",
    "model = DecisionTreeClassifier(max_depth=3, max_leaf_nodes=10).fit(x,y)\n",
    "model.score(x,y)"
   ]
  },
  {
   "cell_type": "code",
   "execution_count": 26,
   "metadata": {},
   "outputs": [
    {
     "data": {
      "text/plain": [
       "Index(['day', 'duration', 'marital_married', 'contact_cellular',\n",
       "       'poutcome_success'],\n",
       "      dtype='object')"
      ]
     },
     "execution_count": 26,
     "metadata": {},
     "output_type": "execute_result"
    }
   ],
   "source": [
    "x.columns[model.feature_importances_> 0.01] # 중요한 특징 "
   ]
  },
  {
   "cell_type": "code",
   "execution_count": 27,
   "metadata": {},
   "outputs": [
    {
     "data": {
      "image/svg+xml": [
       "<?xml version=\"1.0\" encoding=\"UTF-8\" standalone=\"no\"?>\r\n",
       "<!DOCTYPE svg PUBLIC \"-//W3C//DTD SVG 1.1//EN\"\r\n",
       " \"http://www.w3.org/Graphics/SVG/1.1/DTD/svg11.dtd\">\r\n",
       "<!-- Generated by graphviz version 2.38.0 (20140413.2041)\r\n",
       " -->\r\n",
       "<!-- Title: Tree Pages: 1 -->\r\n",
       "<svg width=\"1008pt\" height=\"373pt\"\r\n",
       " viewBox=\"0.00 0.00 1007.50 373.00\" xmlns=\"http://www.w3.org/2000/svg\" xmlns:xlink=\"http://www.w3.org/1999/xlink\">\r\n",
       "<g id=\"graph0\" class=\"graph\" transform=\"scale(1 1) rotate(0) translate(4 369)\">\r\n",
       "<title>Tree</title>\r\n",
       "<polygon fill=\"white\" stroke=\"none\" points=\"-4,4 -4,-369 1003.5,-369 1003.5,4 -4,4\"/>\r\n",
       "<!-- 0 -->\r\n",
       "<g id=\"node1\" class=\"node\"><title>0</title>\r\n",
       "<polygon fill=\"#e89153\" stroke=\"black\" points=\"574.5,-365 449.5,-365 449.5,-297 574.5,-297 574.5,-365\"/>\r\n",
       "<text text-anchor=\"middle\" x=\"512\" y=\"-349.8\" font-family=\"Times New Roman,serif\" font-size=\"14.00\">duration &lt;= 645.5</text>\r\n",
       "<text text-anchor=\"middle\" x=\"512\" y=\"-334.8\" font-family=\"Times New Roman,serif\" font-size=\"14.00\">samples = 4521</text>\r\n",
       "<text text-anchor=\"middle\" x=\"512\" y=\"-319.8\" font-family=\"Times New Roman,serif\" font-size=\"14.00\">value = [4000, 521]</text>\r\n",
       "<text text-anchor=\"middle\" x=\"512\" y=\"-304.8\" font-family=\"Times New Roman,serif\" font-size=\"14.00\">class = Fail</text>\r\n",
       "</g>\r\n",
       "<!-- 1 -->\r\n",
       "<g id=\"node2\" class=\"node\"><title>1</title>\r\n",
       "<polygon fill=\"#e78c4b\" stroke=\"black\" points=\"493,-261 327,-261 327,-193 493,-193 493,-261\"/>\r\n",
       "<text text-anchor=\"middle\" x=\"410\" y=\"-245.8\" font-family=\"Times New Roman,serif\" font-size=\"14.00\">poutcome_success &lt;= 0.5</text>\r\n",
       "<text text-anchor=\"middle\" x=\"410\" y=\"-230.8\" font-family=\"Times New Roman,serif\" font-size=\"14.00\">samples = 4162</text>\r\n",
       "<text text-anchor=\"middle\" x=\"410\" y=\"-215.8\" font-family=\"Times New Roman,serif\" font-size=\"14.00\">value = [3821, 341]</text>\r\n",
       "<text text-anchor=\"middle\" x=\"410\" y=\"-200.8\" font-family=\"Times New Roman,serif\" font-size=\"14.00\">class = Fail</text>\r\n",
       "</g>\r\n",
       "<!-- 0&#45;&gt;1 -->\r\n",
       "<g id=\"edge1\" class=\"edge\"><title>0&#45;&gt;1</title>\r\n",
       "<path fill=\"none\" stroke=\"black\" d=\"M478.884,-296.884C469.798,-287.798 459.845,-277.845 450.4,-268.4\"/>\r\n",
       "<polygon fill=\"black\" stroke=\"black\" points=\"452.845,-265.896 443.299,-261.299 447.896,-270.845 452.845,-265.896\"/>\r\n",
       "<text text-anchor=\"middle\" x=\"443.299\" y=\"-282.599\" font-family=\"Times New Roman,serif\" font-size=\"14.00\">True</text>\r\n",
       "</g>\r\n",
       "<!-- 2 -->\r\n",
       "<g id=\"node9\" class=\"node\"><title>2</title>\r\n",
       "<polygon fill=\"#fefeff\" stroke=\"black\" points=\"686,-261 542,-261 542,-193 686,-193 686,-261\"/>\r\n",
       "<text text-anchor=\"middle\" x=\"614\" y=\"-245.8\" font-family=\"Times New Roman,serif\" font-size=\"14.00\">marital_married &lt;= 0.5</text>\r\n",
       "<text text-anchor=\"middle\" x=\"614\" y=\"-230.8\" font-family=\"Times New Roman,serif\" font-size=\"14.00\">samples = 359</text>\r\n",
       "<text text-anchor=\"middle\" x=\"614\" y=\"-215.8\" font-family=\"Times New Roman,serif\" font-size=\"14.00\">value = [179, 180]</text>\r\n",
       "<text text-anchor=\"middle\" x=\"614\" y=\"-200.8\" font-family=\"Times New Roman,serif\" font-size=\"14.00\">class = Success</text>\r\n",
       "</g>\r\n",
       "<!-- 0&#45;&gt;2 -->\r\n",
       "<g id=\"edge8\" class=\"edge\"><title>0&#45;&gt;2</title>\r\n",
       "<path fill=\"none\" stroke=\"black\" d=\"M545.116,-296.884C554.202,-287.798 564.155,-277.845 573.6,-268.4\"/>\r\n",
       "<polygon fill=\"black\" stroke=\"black\" points=\"576.104,-270.845 580.701,-261.299 571.155,-265.896 576.104,-270.845\"/>\r\n",
       "<text text-anchor=\"middle\" x=\"580.701\" y=\"-282.599\" font-family=\"Times New Roman,serif\" font-size=\"14.00\">False</text>\r\n",
       "</g>\r\n",
       "<!-- 3 -->\r\n",
       "<g id=\"node3\" class=\"node\"><title>3</title>\r\n",
       "<polygon fill=\"#e78a47\" stroke=\"black\" points=\"261.5,-157 136.5,-157 136.5,-89 261.5,-89 261.5,-157\"/>\r\n",
       "<text text-anchor=\"middle\" x=\"199\" y=\"-141.8\" font-family=\"Times New Roman,serif\" font-size=\"14.00\">duration &lt;= 222.5</text>\r\n",
       "<text text-anchor=\"middle\" x=\"199\" y=\"-126.8\" font-family=\"Times New Roman,serif\" font-size=\"14.00\">samples = 4047</text>\r\n",
       "<text text-anchor=\"middle\" x=\"199\" y=\"-111.8\" font-family=\"Times New Roman,serif\" font-size=\"14.00\">value = [3782, 265]</text>\r\n",
       "<text text-anchor=\"middle\" x=\"199\" y=\"-96.8\" font-family=\"Times New Roman,serif\" font-size=\"14.00\">class = Fail</text>\r\n",
       "</g>\r\n",
       "<!-- 1&#45;&gt;3 -->\r\n",
       "<g id=\"edge2\" class=\"edge\"><title>1&#45;&gt;3</title>\r\n",
       "<path fill=\"none\" stroke=\"black\" d=\"M341.494,-192.884C318.967,-181.994 293.863,-169.858 271.079,-158.844\"/>\r\n",
       "<polygon fill=\"black\" stroke=\"black\" points=\"272.332,-155.562 261.806,-154.361 269.286,-161.865 272.332,-155.562\"/>\r\n",
       "</g>\r\n",
       "<!-- 4 -->\r\n",
       "<g id=\"node6\" class=\"node\"><title>4</title>\r\n",
       "<polygon fill=\"#9fcff2\" stroke=\"black\" points=\"468.5,-157 351.5,-157 351.5,-89 468.5,-89 468.5,-157\"/>\r\n",
       "<text text-anchor=\"middle\" x=\"410\" y=\"-141.8\" font-family=\"Times New Roman,serif\" font-size=\"14.00\">duration &lt;= 180.5</text>\r\n",
       "<text text-anchor=\"middle\" x=\"410\" y=\"-126.8\" font-family=\"Times New Roman,serif\" font-size=\"14.00\">samples = 115</text>\r\n",
       "<text text-anchor=\"middle\" x=\"410\" y=\"-111.8\" font-family=\"Times New Roman,serif\" font-size=\"14.00\">value = [39, 76]</text>\r\n",
       "<text text-anchor=\"middle\" x=\"410\" y=\"-96.8\" font-family=\"Times New Roman,serif\" font-size=\"14.00\">class = Success</text>\r\n",
       "</g>\r\n",
       "<!-- 1&#45;&gt;4 -->\r\n",
       "<g id=\"edge5\" class=\"edge\"><title>1&#45;&gt;4</title>\r\n",
       "<path fill=\"none\" stroke=\"black\" d=\"M410,-192.884C410,-184.778 410,-175.982 410,-167.472\"/>\r\n",
       "<polygon fill=\"black\" stroke=\"black\" points=\"413.5,-167.299 410,-157.299 406.5,-167.299 413.5,-167.299\"/>\r\n",
       "</g>\r\n",
       "<!-- 5 -->\r\n",
       "<g id=\"node4\" class=\"node\"><title>5</title>\r\n",
       "<polygon fill=\"#e6843e\" stroke=\"black\" points=\"118,-53 0,-53 0,-0 118,-0 118,-53\"/>\r\n",
       "<text text-anchor=\"middle\" x=\"59\" y=\"-37.8\" font-family=\"Times New Roman,serif\" font-size=\"14.00\">samples = 2628</text>\r\n",
       "<text text-anchor=\"middle\" x=\"59\" y=\"-22.8\" font-family=\"Times New Roman,serif\" font-size=\"14.00\">value = [2563, 65]</text>\r\n",
       "<text text-anchor=\"middle\" x=\"59\" y=\"-7.8\" font-family=\"Times New Roman,serif\" font-size=\"14.00\">class = Fail</text>\r\n",
       "</g>\r\n",
       "<!-- 3&#45;&gt;5 -->\r\n",
       "<g id=\"edge3\" class=\"edge\"><title>3&#45;&gt;5</title>\r\n",
       "<path fill=\"none\" stroke=\"black\" d=\"M150.035,-88.9485C135.669,-79.2516 120,-68.6752 105.775,-59.073\"/>\r\n",
       "<polygon fill=\"black\" stroke=\"black\" points=\"107.375,-55.9305 97.1285,-53.2367 103.459,-61.7325 107.375,-55.9305\"/>\r\n",
       "</g>\r\n",
       "<!-- 6 -->\r\n",
       "<g id=\"node5\" class=\"node\"><title>6</title>\r\n",
       "<polygon fill=\"#e99659\" stroke=\"black\" points=\"261.5,-53 136.5,-53 136.5,-0 261.5,-0 261.5,-53\"/>\r\n",
       "<text text-anchor=\"middle\" x=\"199\" y=\"-37.8\" font-family=\"Times New Roman,serif\" font-size=\"14.00\">samples = 1419</text>\r\n",
       "<text text-anchor=\"middle\" x=\"199\" y=\"-22.8\" font-family=\"Times New Roman,serif\" font-size=\"14.00\">value = [1219, 200]</text>\r\n",
       "<text text-anchor=\"middle\" x=\"199\" y=\"-7.8\" font-family=\"Times New Roman,serif\" font-size=\"14.00\">class = Fail</text>\r\n",
       "</g>\r\n",
       "<!-- 3&#45;&gt;6 -->\r\n",
       "<g id=\"edge4\" class=\"edge\"><title>3&#45;&gt;6</title>\r\n",
       "<path fill=\"none\" stroke=\"black\" d=\"M199,-88.9485C199,-80.7153 199,-71.848 199,-63.4814\"/>\r\n",
       "<polygon fill=\"black\" stroke=\"black\" points=\"202.5,-63.2367 199,-53.2367 195.5,-63.2367 202.5,-63.2367\"/>\r\n",
       "</g>\r\n",
       "<!-- 7 -->\r\n",
       "<g id=\"node7\" class=\"node\"><title>7</title>\r\n",
       "<polygon fill=\"#f1ba92\" stroke=\"black\" points=\"378,-53 280,-53 280,-0 378,-0 378,-53\"/>\r\n",
       "<text text-anchor=\"middle\" x=\"329\" y=\"-37.8\" font-family=\"Times New Roman,serif\" font-size=\"14.00\">samples = 29</text>\r\n",
       "<text text-anchor=\"middle\" x=\"329\" y=\"-22.8\" font-family=\"Times New Roman,serif\" font-size=\"14.00\">value = [20, 9]</text>\r\n",
       "<text text-anchor=\"middle\" x=\"329\" y=\"-7.8\" font-family=\"Times New Roman,serif\" font-size=\"14.00\">class = Fail</text>\r\n",
       "</g>\r\n",
       "<!-- 4&#45;&gt;7 -->\r\n",
       "<g id=\"edge6\" class=\"edge\"><title>4&#45;&gt;7</title>\r\n",
       "<path fill=\"none\" stroke=\"black\" d=\"M381.67,-88.9485C373.907,-79.892 365.487,-70.0682 357.704,-60.9875\"/>\r\n",
       "<polygon fill=\"black\" stroke=\"black\" points=\"360.225,-58.5515 351.06,-53.2367 354.911,-63.1071 360.225,-58.5515\"/>\r\n",
       "</g>\r\n",
       "<!-- 8 -->\r\n",
       "<g id=\"node8\" class=\"node\"><title>8</title>\r\n",
       "<polygon fill=\"#71b9ec\" stroke=\"black\" points=\"503.5,-53 396.5,-53 396.5,-0 503.5,-0 503.5,-53\"/>\r\n",
       "<text text-anchor=\"middle\" x=\"450\" y=\"-37.8\" font-family=\"Times New Roman,serif\" font-size=\"14.00\">samples = 86</text>\r\n",
       "<text text-anchor=\"middle\" x=\"450\" y=\"-22.8\" font-family=\"Times New Roman,serif\" font-size=\"14.00\">value = [19, 67]</text>\r\n",
       "<text text-anchor=\"middle\" x=\"450\" y=\"-7.8\" font-family=\"Times New Roman,serif\" font-size=\"14.00\">class = Success</text>\r\n",
       "</g>\r\n",
       "<!-- 4&#45;&gt;8 -->\r\n",
       "<g id=\"edge7\" class=\"edge\"><title>4&#45;&gt;8</title>\r\n",
       "<path fill=\"none\" stroke=\"black\" d=\"M423.99,-88.9485C427.591,-80.4408 431.479,-71.2562 435.123,-62.6464\"/>\r\n",
       "<polygon fill=\"black\" stroke=\"black\" points=\"438.431,-63.81 439.106,-53.2367 431.985,-61.0814 438.431,-63.81\"/>\r\n",
       "</g>\r\n",
       "<!-- 9 -->\r\n",
       "<g id=\"node10\" class=\"node\"><title>9</title>\r\n",
       "<polygon fill=\"#b4daf5\" stroke=\"black\" points=\"667.5,-157 560.5,-157 560.5,-89 667.5,-89 667.5,-157\"/>\r\n",
       "<text text-anchor=\"middle\" x=\"614\" y=\"-141.8\" font-family=\"Times New Roman,serif\" font-size=\"14.00\">day &lt;= 7.5</text>\r\n",
       "<text text-anchor=\"middle\" x=\"614\" y=\"-126.8\" font-family=\"Times New Roman,serif\" font-size=\"14.00\">samples = 154</text>\r\n",
       "<text text-anchor=\"middle\" x=\"614\" y=\"-111.8\" font-family=\"Times New Roman,serif\" font-size=\"14.00\">value = [59, 95]</text>\r\n",
       "<text text-anchor=\"middle\" x=\"614\" y=\"-96.8\" font-family=\"Times New Roman,serif\" font-size=\"14.00\">class = Success</text>\r\n",
       "</g>\r\n",
       "<!-- 2&#45;&gt;9 -->\r\n",
       "<g id=\"edge9\" class=\"edge\"><title>2&#45;&gt;9</title>\r\n",
       "<path fill=\"none\" stroke=\"black\" d=\"M614,-192.884C614,-184.778 614,-175.982 614,-167.472\"/>\r\n",
       "<polygon fill=\"black\" stroke=\"black\" points=\"617.5,-167.299 614,-157.299 610.5,-167.299 617.5,-167.299\"/>\r\n",
       "</g>\r\n",
       "<!-- 10 -->\r\n",
       "<g id=\"node13\" class=\"node\"><title>10</title>\r\n",
       "<polygon fill=\"#f7dac5\" stroke=\"black\" points=\"895,-157 749,-157 749,-89 895,-89 895,-157\"/>\r\n",
       "<text text-anchor=\"middle\" x=\"822\" y=\"-141.8\" font-family=\"Times New Roman,serif\" font-size=\"14.00\">contact_cellular &lt;= 0.5</text>\r\n",
       "<text text-anchor=\"middle\" x=\"822\" y=\"-126.8\" font-family=\"Times New Roman,serif\" font-size=\"14.00\">samples = 205</text>\r\n",
       "<text text-anchor=\"middle\" x=\"822\" y=\"-111.8\" font-family=\"Times New Roman,serif\" font-size=\"14.00\">value = [120, 85]</text>\r\n",
       "<text text-anchor=\"middle\" x=\"822\" y=\"-96.8\" font-family=\"Times New Roman,serif\" font-size=\"14.00\">class = Fail</text>\r\n",
       "</g>\r\n",
       "<!-- 2&#45;&gt;10 -->\r\n",
       "<g id=\"edge12\" class=\"edge\"><title>2&#45;&gt;10</title>\r\n",
       "<path fill=\"none\" stroke=\"black\" d=\"M681.532,-192.884C701.888,-182.901 724.378,-171.872 745.286,-161.619\"/>\r\n",
       "<polygon fill=\"black\" stroke=\"black\" points=\"747.014,-164.67 754.452,-157.125 743.932,-158.385 747.014,-164.67\"/>\r\n",
       "</g>\r\n",
       "<!-- 13 -->\r\n",
       "<g id=\"node11\" class=\"node\"><title>13</title>\r\n",
       "<polygon fill=\"#f7d8c1\" stroke=\"black\" points=\"626,-53 522,-53 522,-0 626,-0 626,-53\"/>\r\n",
       "<text text-anchor=\"middle\" x=\"574\" y=\"-37.8\" font-family=\"Times New Roman,serif\" font-size=\"14.00\">samples = 27</text>\r\n",
       "<text text-anchor=\"middle\" x=\"574\" y=\"-22.8\" font-family=\"Times New Roman,serif\" font-size=\"14.00\">value = [16, 11]</text>\r\n",
       "<text text-anchor=\"middle\" x=\"574\" y=\"-7.8\" font-family=\"Times New Roman,serif\" font-size=\"14.00\">class = Fail</text>\r\n",
       "</g>\r\n",
       "<!-- 9&#45;&gt;13 -->\r\n",
       "<g id=\"edge10\" class=\"edge\"><title>9&#45;&gt;13</title>\r\n",
       "<path fill=\"none\" stroke=\"black\" d=\"M600.01,-88.9485C596.409,-80.4408 592.521,-71.2562 588.877,-62.6464\"/>\r\n",
       "<polygon fill=\"black\" stroke=\"black\" points=\"592.015,-61.0814 584.894,-53.2367 585.569,-63.81 592.015,-61.0814\"/>\r\n",
       "</g>\r\n",
       "<!-- 14 -->\r\n",
       "<g id=\"node12\" class=\"node\"><title>14</title>\r\n",
       "<polygon fill=\"#9ecff2\" stroke=\"black\" points=\"751.5,-53 644.5,-53 644.5,-0 751.5,-0 751.5,-53\"/>\r\n",
       "<text text-anchor=\"middle\" x=\"698\" y=\"-37.8\" font-family=\"Times New Roman,serif\" font-size=\"14.00\">samples = 127</text>\r\n",
       "<text text-anchor=\"middle\" x=\"698\" y=\"-22.8\" font-family=\"Times New Roman,serif\" font-size=\"14.00\">value = [43, 84]</text>\r\n",
       "<text text-anchor=\"middle\" x=\"698\" y=\"-7.8\" font-family=\"Times New Roman,serif\" font-size=\"14.00\">class = Success</text>\r\n",
       "</g>\r\n",
       "<!-- 9&#45;&gt;14 -->\r\n",
       "<g id=\"edge11\" class=\"edge\"><title>9&#45;&gt;14</title>\r\n",
       "<path fill=\"none\" stroke=\"black\" d=\"M643.379,-88.9485C651.511,-79.8005 660.338,-69.8697 668.478,-60.7126\"/>\r\n",
       "<polygon fill=\"black\" stroke=\"black\" points=\"671.095,-63.0361 675.123,-53.2367 665.863,-58.3855 671.095,-63.0361\"/>\r\n",
       "</g>\r\n",
       "<!-- 11 -->\r\n",
       "<g id=\"node14\" class=\"node\"><title>11</title>\r\n",
       "<polygon fill=\"#f0b58a\" stroke=\"black\" points=\"874,-53 770,-53 770,-0 874,-0 874,-53\"/>\r\n",
       "<text text-anchor=\"middle\" x=\"822\" y=\"-37.8\" font-family=\"Times New Roman,serif\" font-size=\"14.00\">samples = 86</text>\r\n",
       "<text text-anchor=\"middle\" x=\"822\" y=\"-22.8\" font-family=\"Times New Roman,serif\" font-size=\"14.00\">value = [61, 25]</text>\r\n",
       "<text text-anchor=\"middle\" x=\"822\" y=\"-7.8\" font-family=\"Times New Roman,serif\" font-size=\"14.00\">class = Fail</text>\r\n",
       "</g>\r\n",
       "<!-- 10&#45;&gt;11 -->\r\n",
       "<g id=\"edge13\" class=\"edge\"><title>10&#45;&gt;11</title>\r\n",
       "<path fill=\"none\" stroke=\"black\" d=\"M822,-88.9485C822,-80.7153 822,-71.848 822,-63.4814\"/>\r\n",
       "<polygon fill=\"black\" stroke=\"black\" points=\"825.5,-63.2367 822,-53.2367 818.5,-63.2367 825.5,-63.2367\"/>\r\n",
       "</g>\r\n",
       "<!-- 12 -->\r\n",
       "<g id=\"node15\" class=\"node\"><title>12</title>\r\n",
       "<polygon fill=\"#fcfdff\" stroke=\"black\" points=\"999.5,-53 892.5,-53 892.5,-0 999.5,-0 999.5,-53\"/>\r\n",
       "<text text-anchor=\"middle\" x=\"946\" y=\"-37.8\" font-family=\"Times New Roman,serif\" font-size=\"14.00\">samples = 119</text>\r\n",
       "<text text-anchor=\"middle\" x=\"946\" y=\"-22.8\" font-family=\"Times New Roman,serif\" font-size=\"14.00\">value = [59, 60]</text>\r\n",
       "<text text-anchor=\"middle\" x=\"946\" y=\"-7.8\" font-family=\"Times New Roman,serif\" font-size=\"14.00\">class = Success</text>\r\n",
       "</g>\r\n",
       "<!-- 10&#45;&gt;12 -->\r\n",
       "<g id=\"edge14\" class=\"edge\"><title>10&#45;&gt;12</title>\r\n",
       "<path fill=\"none\" stroke=\"black\" d=\"M865.369,-88.9485C877.973,-79.3431 891.709,-68.8747 904.214,-59.345\"/>\r\n",
       "<polygon fill=\"black\" stroke=\"black\" points=\"906.397,-62.0819 912.229,-53.2367 902.154,-56.5144 906.397,-62.0819\"/>\r\n",
       "</g>\r\n",
       "</g>\r\n",
       "</svg>\r\n"
      ],
      "text/plain": [
       "<graphviz.files.Source at 0x202075ad9b0>"
      ]
     },
     "metadata": {},
     "output_type": "display_data"
    }
   ],
   "source": [
    "from sklearn.tree import export_graphviz\n",
    "export_graphviz(model, out_file='tree.dot', class_names=['Fail','Success'],\n",
    "        feature_names=x.columns, impurity=False, filled=True)\n",
    "import os\n",
    "os.environ[\"PATH\"] += os.pathsep + 'C:/Program Files (x86)/Graphviz2.38/bin/'\n",
    "import graphviz #패키지 설치 anaconda prompt / pip install graphviz \n",
    "with open('tree.dot') as f:\n",
    "    dot_graph = f.read()    \n",
    "g = graphviz.Source(dot_graph)\n",
    "display(g)"
   ]
  },
  {
   "cell_type": "code",
   "execution_count": null,
   "metadata": {},
   "outputs": [],
   "source": []
  }
 ],
 "metadata": {
  "kernelspec": {
   "display_name": "Python 3",
   "language": "python",
   "name": "python3"
  },
  "language_info": {
   "codemirror_mode": {
    "name": "ipython",
    "version": 3
   },
   "file_extension": ".py",
   "mimetype": "text/x-python",
   "name": "python",
   "nbconvert_exporter": "python",
   "pygments_lexer": "ipython3",
   "version": "3.6.9"
  }
 },
 "nbformat": 4,
 "nbformat_minor": 2
}
