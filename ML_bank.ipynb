{
 "cells": [
  {
   "cell_type": "markdown",
   "metadata": {},
   "source": [
    "미국 인구조사 데이터 1995\n",
    "대략 5만명을 조사.\n",
    "나이, 직업, 결혼 상황, 교육정도, 인종, 건너온 나라, 소득수준\n",
    "1년 소득이 5만달러(6천만원) 이상인지 아닌지를 분류하는 문제\n",
    "\n",
    "다음의 순서로 분석해보았습니다.\n",
    "1. 데이터 획득\n",
    "1. 데이터 정제\n",
    "1. 데이터 분석\n",
    "1. 모델 선택\n",
    "1. 결과 시각화"
   ]
  },
  {
   "cell_type": "code",
   "execution_count": 122,
   "metadata": {},
   "outputs": [],
   "source": [
    "import pandas as pd\n",
    "import numpy as np\n",
    "import matplotlib.pyplot as plt"
   ]
  },
  {
   "cell_type": "code",
   "execution_count": 123,
   "metadata": {},
   "outputs": [
    {
     "data": {
      "text/plain": [
       "(32561, 15)"
      ]
     },
     "execution_count": 123,
     "metadata": {},
     "output_type": "execute_result"
    }
   ],
   "source": [
    "df = pd.read_csv('C:/Users/user/Downloads/adult.data', header=None,encoding='cp949')\n",
    "df.shape"
   ]
  },
  {
   "cell_type": "code",
   "execution_count": 124,
   "metadata": {
    "scrolled": true
   },
   "outputs": [
    {
     "data": {
      "text/html": [
       "<div>\n",
       "<style scoped>\n",
       "    .dataframe tbody tr th:only-of-type {\n",
       "        vertical-align: middle;\n",
       "    }\n",
       "\n",
       "    .dataframe tbody tr th {\n",
       "        vertical-align: top;\n",
       "    }\n",
       "\n",
       "    .dataframe thead th {\n",
       "        text-align: right;\n",
       "    }\n",
       "</style>\n",
       "<table border=\"1\" class=\"dataframe\">\n",
       "  <thead>\n",
       "    <tr style=\"text-align: right;\">\n",
       "      <th></th>\n",
       "      <th>0</th>\n",
       "      <th>1</th>\n",
       "      <th>2</th>\n",
       "      <th>3</th>\n",
       "      <th>4</th>\n",
       "      <th>5</th>\n",
       "      <th>6</th>\n",
       "      <th>7</th>\n",
       "      <th>8</th>\n",
       "      <th>9</th>\n",
       "      <th>10</th>\n",
       "      <th>11</th>\n",
       "      <th>12</th>\n",
       "      <th>13</th>\n",
       "      <th>14</th>\n",
       "    </tr>\n",
       "  </thead>\n",
       "  <tbody>\n",
       "    <tr>\n",
       "      <th>0</th>\n",
       "      <td>39</td>\n",
       "      <td>State-gov</td>\n",
       "      <td>77516</td>\n",
       "      <td>Bachelors</td>\n",
       "      <td>13</td>\n",
       "      <td>Never-married</td>\n",
       "      <td>Adm-clerical</td>\n",
       "      <td>Not-in-family</td>\n",
       "      <td>White</td>\n",
       "      <td>Male</td>\n",
       "      <td>2174</td>\n",
       "      <td>0</td>\n",
       "      <td>40</td>\n",
       "      <td>United-States</td>\n",
       "      <td>&lt;=50K</td>\n",
       "    </tr>\n",
       "  </tbody>\n",
       "</table>\n",
       "</div>"
      ],
      "text/plain": [
       "   0           1      2           3   4               5              6   \\\n",
       "0  39   State-gov  77516   Bachelors  13   Never-married   Adm-clerical   \n",
       "\n",
       "               7       8      9     10  11  12              13      14  \n",
       "0   Not-in-family   White   Male  2174   0  40   United-States   <=50K  "
      ]
     },
     "execution_count": 124,
     "metadata": {},
     "output_type": "execute_result"
    }
   ],
   "source": [
    "df.head(1)"
   ]
  },
  {
   "cell_type": "code",
   "execution_count": 125,
   "metadata": {},
   "outputs": [
    {
     "data": {
      "text/plain": [
       "15"
      ]
     },
     "execution_count": 125,
     "metadata": {},
     "output_type": "execute_result"
    }
   ],
   "source": [
    "col = ['age','workclass','fnlwgt','education','education-num','marital-status',\n",
    " 'occupation','relationship','race','sex','capital-gain','capital-loss',\n",
    "'hours-per-week','native-country', 'income']\n",
    "len(col)"
   ]
  },
  {
   "cell_type": "code",
   "execution_count": 126,
   "metadata": {},
   "outputs": [],
   "source": [
    "df.columns = col"
   ]
  },
  {
   "cell_type": "code",
   "execution_count": 127,
   "metadata": {},
   "outputs": [],
   "source": [
    "df = df.drop(columns='fnlwgt') #필요없는 데이터 제거"
   ]
  },
  {
   "cell_type": "markdown",
   "metadata": {},
   "source": [
    "전처리 : 카테고리 > 수치\n",
    "         자연어 > 수치"
   ]
  },
  {
   "cell_type": "code",
   "execution_count": 128,
   "metadata": {},
   "outputs": [
    {
     "data": {
      "text/plain": [
       "(array([' Male', ' Female'], dtype=object),\n",
       " array([' <=50K', ' >50K'], dtype=object))"
      ]
     },
     "execution_count": 128,
     "metadata": {},
     "output_type": "execute_result"
    }
   ],
   "source": [
    "df.sex.unique(), df.income.unique(), "
   ]
  },
  {
   "cell_type": "code",
   "execution_count": 129,
   "metadata": {},
   "outputs": [],
   "source": [
    "df.sex = df.sex.map({' Male':0, ' Female':1}) #카테고리가 2개일 때만 사용 가능\n",
    "df.income = df.income.map({' <=50K':0, ' >50K':1})\n",
    "df.sex = df.sex.astype(int)\n",
    "df.income = df.income.astype(int)"
   ]
  },
  {
   "cell_type": "code",
   "execution_count": 130,
   "metadata": {
    "scrolled": true
   },
   "outputs": [
    {
     "data": {
      "text/plain": [
       "age                int64\n",
       "workclass         object\n",
       "education         object\n",
       "education-num      int64\n",
       "marital-status    object\n",
       "occupation        object\n",
       "relationship      object\n",
       "race              object\n",
       "sex                int32\n",
       "capital-gain       int64\n",
       "capital-loss       int64\n",
       "hours-per-week     int64\n",
       "native-country    object\n",
       "income             int32\n",
       "dtype: object"
      ]
     },
     "execution_count": 130,
     "metadata": {},
     "output_type": "execute_result"
    }
   ],
   "source": [
    "df.dtypes #카테고리 확인 "
   ]
  },
  {
   "cell_type": "markdown",
   "metadata": {},
   "source": [
    "https://github.com/sogangori/python_test"
   ]
  },
  {
   "cell_type": "code",
   "execution_count": 132,
   "metadata": {},
   "outputs": [
    {
     "data": {
      "text/plain": [
       "(32561, 107)"
      ]
     },
     "execution_count": 132,
     "metadata": {},
     "output_type": "execute_result"
    }
   ],
   "source": [
    "df = pd.get_dummies(df) # 카테고리를 원핫 인코딩\n",
    "df.shape"
   ]
  },
  {
   "cell_type": "code",
   "execution_count": 138,
   "metadata": {},
   "outputs": [],
   "source": [
    "y = df.income\n",
    "x = df.drop(columns='income')"
   ]
  },
  {
   "cell_type": "code",
   "execution_count": 154,
   "metadata": {},
   "outputs": [
    {
     "data": {
      "text/plain": [
       "0.843770154479285"
      ]
     },
     "execution_count": 154,
     "metadata": {},
     "output_type": "execute_result"
    }
   ],
   "source": [
    "from sklearn.tree import DecisionTreeClassifier\n",
    "model = DecisionTreeClassifier(max_depth=4, max_leaf_nodes=10).fit(x,y)\n",
    "model.score(x,y)"
   ]
  },
  {
   "cell_type": "code",
   "execution_count": 155,
   "metadata": {},
   "outputs": [
    {
     "data": {
      "text/plain": [
       "Index(['education-num', 'capital-gain', 'capital-loss', 'hours-per-week',\n",
       "       'marital-status_ Married-civ-spouse'],\n",
       "      dtype='object')"
      ]
     },
     "execution_count": 155,
     "metadata": {},
     "output_type": "execute_result"
    }
   ],
   "source": [
    "x.columns[model.feature_importances_> 0.01] # 중요한 특징 "
   ]
  },
  {
   "cell_type": "code",
   "execution_count": 156,
   "metadata": {},
   "outputs": [
    {
     "data": {
      "image/svg+xml": [
       "<?xml version=\"1.0\" encoding=\"UTF-8\" standalone=\"no\"?>\r\n",
       "<!DOCTYPE svg PUBLIC \"-//W3C//DTD SVG 1.1//EN\"\r\n",
       " \"http://www.w3.org/Graphics/SVG/1.1/DTD/svg11.dtd\">\r\n",
       "<!-- Generated by graphviz version 2.38.0 (20140413.2041)\r\n",
       " -->\r\n",
       "<!-- Title: Tree Pages: 1 -->\r\n",
       "<svg width=\"887pt\" height=\"477pt\"\r\n",
       " viewBox=\"0.00 0.00 886.50 477.00\" xmlns=\"http://www.w3.org/2000/svg\" xmlns:xlink=\"http://www.w3.org/1999/xlink\">\r\n",
       "<g id=\"graph0\" class=\"graph\" transform=\"scale(1 1) rotate(0) translate(4 473)\">\r\n",
       "<title>Tree</title>\r\n",
       "<polygon fill=\"white\" stroke=\"none\" points=\"-4,4 -4,-473 882.5,-473 882.5,4 -4,4\"/>\r\n",
       "<!-- 0 -->\r\n",
       "<g id=\"node1\" class=\"node\"><title>0</title>\r\n",
       "<polygon fill=\"#eda978\" stroke=\"black\" points=\"574,-469 323,-469 323,-401 574,-401 574,-469\"/>\r\n",
       "<text text-anchor=\"middle\" x=\"448.5\" y=\"-453.8\" font-family=\"Times New Roman,serif\" font-size=\"14.00\">marital&#45;status_ Married&#45;civ&#45;spouse &lt;= 0.5</text>\r\n",
       "<text text-anchor=\"middle\" x=\"448.5\" y=\"-438.8\" font-family=\"Times New Roman,serif\" font-size=\"14.00\">samples = 32561</text>\r\n",
       "<text text-anchor=\"middle\" x=\"448.5\" y=\"-423.8\" font-family=\"Times New Roman,serif\" font-size=\"14.00\">value = [24720, 7841]</text>\r\n",
       "<text text-anchor=\"middle\" x=\"448.5\" y=\"-408.8\" font-family=\"Times New Roman,serif\" font-size=\"14.00\">class = &lt; 50k</text>\r\n",
       "</g>\r\n",
       "<!-- 1 -->\r\n",
       "<g id=\"node2\" class=\"node\"><title>1</title>\r\n",
       "<polygon fill=\"#e78a47\" stroke=\"black\" points=\"438,-365 297,-365 297,-297 438,-297 438,-365\"/>\r\n",
       "<text text-anchor=\"middle\" x=\"367.5\" y=\"-349.8\" font-family=\"Times New Roman,serif\" font-size=\"14.00\">capital&#45;gain &lt;= 7073.5</text>\r\n",
       "<text text-anchor=\"middle\" x=\"367.5\" y=\"-334.8\" font-family=\"Times New Roman,serif\" font-size=\"14.00\">samples = 17585</text>\r\n",
       "<text text-anchor=\"middle\" x=\"367.5\" y=\"-319.8\" font-family=\"Times New Roman,serif\" font-size=\"14.00\">value = [16436, 1149]</text>\r\n",
       "<text text-anchor=\"middle\" x=\"367.5\" y=\"-304.8\" font-family=\"Times New Roman,serif\" font-size=\"14.00\">class = &lt; 50k</text>\r\n",
       "</g>\r\n",
       "<!-- 0&#45;&gt;1 -->\r\n",
       "<g id=\"edge1\" class=\"edge\"><title>0&#45;&gt;1</title>\r\n",
       "<path fill=\"none\" stroke=\"black\" d=\"M422.202,-400.884C415.199,-392.065 407.547,-382.43 400.245,-373.235\"/>\r\n",
       "<polygon fill=\"black\" stroke=\"black\" points=\"402.903,-370.954 393.944,-365.299 397.422,-375.307 402.903,-370.954\"/>\r\n",
       "<text text-anchor=\"middle\" x=\"391.093\" y=\"-386.436\" font-family=\"Times New Roman,serif\" font-size=\"14.00\">True</text>\r\n",
       "</g>\r\n",
       "<!-- 2 -->\r\n",
       "<g id=\"node9\" class=\"node\"><title>2</title>\r\n",
       "<polygon fill=\"#fae7d9\" stroke=\"black\" points=\"603,-365 456,-365 456,-297 603,-297 603,-365\"/>\r\n",
       "<text text-anchor=\"middle\" x=\"529.5\" y=\"-349.8\" font-family=\"Times New Roman,serif\" font-size=\"14.00\">education&#45;num &lt;= 12.5</text>\r\n",
       "<text text-anchor=\"middle\" x=\"529.5\" y=\"-334.8\" font-family=\"Times New Roman,serif\" font-size=\"14.00\">samples = 14976</text>\r\n",
       "<text text-anchor=\"middle\" x=\"529.5\" y=\"-319.8\" font-family=\"Times New Roman,serif\" font-size=\"14.00\">value = [8284, 6692]</text>\r\n",
       "<text text-anchor=\"middle\" x=\"529.5\" y=\"-304.8\" font-family=\"Times New Roman,serif\" font-size=\"14.00\">class = &lt; 50k</text>\r\n",
       "</g>\r\n",
       "<!-- 0&#45;&gt;2 -->\r\n",
       "<g id=\"edge8\" class=\"edge\"><title>0&#45;&gt;2</title>\r\n",
       "<path fill=\"none\" stroke=\"black\" d=\"M474.798,-400.884C481.801,-392.065 489.453,-382.43 496.755,-373.235\"/>\r\n",
       "<polygon fill=\"black\" stroke=\"black\" points=\"499.578,-375.307 503.056,-365.299 494.097,-370.954 499.578,-375.307\"/>\r\n",
       "<text text-anchor=\"middle\" x=\"505.907\" y=\"-386.436\" font-family=\"Times New Roman,serif\" font-size=\"14.00\">False</text>\r\n",
       "</g>\r\n",
       "<!-- 5 -->\r\n",
       "<g id=\"node3\" class=\"node\"><title>5</title>\r\n",
       "<polygon fill=\"#e68843\" stroke=\"black\" points=\"298,-261 151,-261 151,-193 298,-193 298,-261\"/>\r\n",
       "<text text-anchor=\"middle\" x=\"224.5\" y=\"-245.8\" font-family=\"Times New Roman,serif\" font-size=\"14.00\">education&#45;num &lt;= 12.5</text>\r\n",
       "<text text-anchor=\"middle\" x=\"224.5\" y=\"-230.8\" font-family=\"Times New Roman,serif\" font-size=\"14.00\">samples = 17274</text>\r\n",
       "<text text-anchor=\"middle\" x=\"224.5\" y=\"-215.8\" font-family=\"Times New Roman,serif\" font-size=\"14.00\">value = [16425, 849]</text>\r\n",
       "<text text-anchor=\"middle\" x=\"224.5\" y=\"-200.8\" font-family=\"Times New Roman,serif\" font-size=\"14.00\">class = &lt; 50k</text>\r\n",
       "</g>\r\n",
       "<!-- 1&#45;&gt;5 -->\r\n",
       "<g id=\"edge2\" class=\"edge\"><title>1&#45;&gt;5</title>\r\n",
       "<path fill=\"none\" stroke=\"black\" d=\"M321.072,-296.884C307.835,-287.442 293.285,-277.064 279.585,-267.292\"/>\r\n",
       "<polygon fill=\"black\" stroke=\"black\" points=\"281.358,-264.257 271.184,-261.299 277.293,-269.956 281.358,-264.257\"/>\r\n",
       "</g>\r\n",
       "<!-- 6 -->\r\n",
       "<g id=\"node8\" class=\"node\"><title>6</title>\r\n",
       "<polygon fill=\"#40a1e6\" stroke=\"black\" points=\"427,-253.5 316,-253.5 316,-200.5 427,-200.5 427,-253.5\"/>\r\n",
       "<text text-anchor=\"middle\" x=\"371.5\" y=\"-238.3\" font-family=\"Times New Roman,serif\" font-size=\"14.00\">samples = 311</text>\r\n",
       "<text text-anchor=\"middle\" x=\"371.5\" y=\"-223.3\" font-family=\"Times New Roman,serif\" font-size=\"14.00\">value = [11, 300]</text>\r\n",
       "<text text-anchor=\"middle\" x=\"371.5\" y=\"-208.3\" font-family=\"Times New Roman,serif\" font-size=\"14.00\">class = &gt;= 50k</text>\r\n",
       "</g>\r\n",
       "<!-- 1&#45;&gt;6 -->\r\n",
       "<g id=\"edge7\" class=\"edge\"><title>1&#45;&gt;6</title>\r\n",
       "<path fill=\"none\" stroke=\"black\" d=\"M368.799,-296.884C369.217,-286.216 369.682,-274.352 370.107,-263.519\"/>\r\n",
       "<polygon fill=\"black\" stroke=\"black\" points=\"373.605,-263.649 370.499,-253.52 366.61,-263.375 373.605,-263.649\"/>\r\n",
       "</g>\r\n",
       "<!-- 13 -->\r\n",
       "<g id=\"node4\" class=\"node\"><title>13</title>\r\n",
       "<polygon fill=\"#e6843e\" stroke=\"black\" points=\"131,-149.5 0,-149.5 0,-96.5 131,-96.5 131,-149.5\"/>\r\n",
       "<text text-anchor=\"middle\" x=\"65.5\" y=\"-134.3\" font-family=\"Times New Roman,serif\" font-size=\"14.00\">samples = 13864</text>\r\n",
       "<text text-anchor=\"middle\" x=\"65.5\" y=\"-119.3\" font-family=\"Times New Roman,serif\" font-size=\"14.00\">value = [13522, 342]</text>\r\n",
       "<text text-anchor=\"middle\" x=\"65.5\" y=\"-104.3\" font-family=\"Times New Roman,serif\" font-size=\"14.00\">class = &lt; 50k</text>\r\n",
       "</g>\r\n",
       "<!-- 5&#45;&gt;13 -->\r\n",
       "<g id=\"edge3\" class=\"edge\"><title>5&#45;&gt;13</title>\r\n",
       "<path fill=\"none\" stroke=\"black\" d=\"M172.877,-192.884C153.933,-180.731 132.572,-167.027 113.919,-155.061\"/>\r\n",
       "<polygon fill=\"black\" stroke=\"black\" points=\"115.588,-151.974 105.281,-149.52 111.808,-157.865 115.588,-151.974\"/>\r\n",
       "</g>\r\n",
       "<!-- 14 -->\r\n",
       "<g id=\"node5\" class=\"node\"><title>14</title>\r\n",
       "<polygon fill=\"#ea975c\" stroke=\"black\" points=\"301.5,-157 149.5,-157 149.5,-89 301.5,-89 301.5,-157\"/>\r\n",
       "<text text-anchor=\"middle\" x=\"225.5\" y=\"-141.8\" font-family=\"Times New Roman,serif\" font-size=\"14.00\">hours&#45;per&#45;week &lt;= 43.5</text>\r\n",
       "<text text-anchor=\"middle\" x=\"225.5\" y=\"-126.8\" font-family=\"Times New Roman,serif\" font-size=\"14.00\">samples = 3410</text>\r\n",
       "<text text-anchor=\"middle\" x=\"225.5\" y=\"-111.8\" font-family=\"Times New Roman,serif\" font-size=\"14.00\">value = [2903, 507]</text>\r\n",
       "<text text-anchor=\"middle\" x=\"225.5\" y=\"-96.8\" font-family=\"Times New Roman,serif\" font-size=\"14.00\">class = &lt; 50k</text>\r\n",
       "</g>\r\n",
       "<!-- 5&#45;&gt;14 -->\r\n",
       "<g id=\"edge4\" class=\"edge\"><title>5&#45;&gt;14</title>\r\n",
       "<path fill=\"none\" stroke=\"black\" d=\"M224.825,-192.884C224.904,-184.778 224.99,-175.982 225.074,-167.472\"/>\r\n",
       "<polygon fill=\"black\" stroke=\"black\" points=\"228.575,-167.333 225.174,-157.299 221.576,-167.265 228.575,-167.333\"/>\r\n",
       "</g>\r\n",
       "<!-- 17 -->\r\n",
       "<g id=\"node6\" class=\"node\"><title>17</title>\r\n",
       "<polygon fill=\"#e88d4c\" stroke=\"black\" points=\"151,-53 26,-53 26,-0 151,-0 151,-53\"/>\r\n",
       "<text text-anchor=\"middle\" x=\"88.5\" y=\"-37.8\" font-family=\"Times New Roman,serif\" font-size=\"14.00\">samples = 2302</text>\r\n",
       "<text text-anchor=\"middle\" x=\"88.5\" y=\"-22.8\" font-family=\"Times New Roman,serif\" font-size=\"14.00\">value = [2099, 203]</text>\r\n",
       "<text text-anchor=\"middle\" x=\"88.5\" y=\"-7.8\" font-family=\"Times New Roman,serif\" font-size=\"14.00\">class = &lt; 50k</text>\r\n",
       "</g>\r\n",
       "<!-- 14&#45;&gt;17 -->\r\n",
       "<g id=\"edge5\" class=\"edge\"><title>14&#45;&gt;17</title>\r\n",
       "<path fill=\"none\" stroke=\"black\" d=\"M177.584,-88.9485C163.526,-79.2516 148.193,-68.6752 134.272,-59.073\"/>\r\n",
       "<polygon fill=\"black\" stroke=\"black\" points=\"136.03,-56.0337 125.811,-53.2367 132.056,-61.7959 136.03,-56.0337\"/>\r\n",
       "</g>\r\n",
       "<!-- 18 -->\r\n",
       "<g id=\"node7\" class=\"node\"><title>18</title>\r\n",
       "<polygon fill=\"#efb184\" stroke=\"black\" points=\"287.5,-53 169.5,-53 169.5,-0 287.5,-0 287.5,-53\"/>\r\n",
       "<text text-anchor=\"middle\" x=\"228.5\" y=\"-37.8\" font-family=\"Times New Roman,serif\" font-size=\"14.00\">samples = 1108</text>\r\n",
       "<text text-anchor=\"middle\" x=\"228.5\" y=\"-22.8\" font-family=\"Times New Roman,serif\" font-size=\"14.00\">value = [804, 304]</text>\r\n",
       "<text text-anchor=\"middle\" x=\"228.5\" y=\"-7.8\" font-family=\"Times New Roman,serif\" font-size=\"14.00\">class = &lt; 50k</text>\r\n",
       "</g>\r\n",
       "<!-- 14&#45;&gt;18 -->\r\n",
       "<g id=\"edge6\" class=\"edge\"><title>14&#45;&gt;18</title>\r\n",
       "<path fill=\"none\" stroke=\"black\" d=\"M226.549,-88.9485C226.811,-80.7153 227.092,-71.848 227.358,-63.4814\"/>\r\n",
       "<polygon fill=\"black\" stroke=\"black\" points=\"230.864,-63.3428 227.683,-53.2367 223.867,-63.1206 230.864,-63.3428\"/>\r\n",
       "</g>\r\n",
       "<!-- 3 -->\r\n",
       "<g id=\"node10\" class=\"node\"><title>3</title>\r\n",
       "<polygon fill=\"#f2bf9b\" stroke=\"black\" points=\"599,-261 458,-261 458,-193 599,-193 599,-261\"/>\r\n",
       "<text text-anchor=\"middle\" x=\"528.5\" y=\"-245.8\" font-family=\"Times New Roman,serif\" font-size=\"14.00\">capital&#45;gain &lt;= 5095.5</text>\r\n",
       "<text text-anchor=\"middle\" x=\"528.5\" y=\"-230.8\" font-family=\"Times New Roman,serif\" font-size=\"14.00\">samples = 10507</text>\r\n",
       "<text text-anchor=\"middle\" x=\"528.5\" y=\"-215.8\" font-family=\"Times New Roman,serif\" font-size=\"14.00\">value = [7029, 3478]</text>\r\n",
       "<text text-anchor=\"middle\" x=\"528.5\" y=\"-200.8\" font-family=\"Times New Roman,serif\" font-size=\"14.00\">class = &lt; 50k</text>\r\n",
       "</g>\r\n",
       "<!-- 2&#45;&gt;3 -->\r\n",
       "<g id=\"edge9\" class=\"edge\"><title>2&#45;&gt;3</title>\r\n",
       "<path fill=\"none\" stroke=\"black\" d=\"M529.175,-296.884C529.096,-288.778 529.01,-279.982 528.926,-271.472\"/>\r\n",
       "<polygon fill=\"black\" stroke=\"black\" points=\"532.424,-271.265 528.826,-261.299 525.425,-271.333 532.424,-271.265\"/>\r\n",
       "</g>\r\n",
       "<!-- 4 -->\r\n",
       "<g id=\"node15\" class=\"node\"><title>4</title>\r\n",
       "<polygon fill=\"#86c3ef\" stroke=\"black\" points=\"758,-261 617,-261 617,-193 758,-193 758,-261\"/>\r\n",
       "<text text-anchor=\"middle\" x=\"687.5\" y=\"-245.8\" font-family=\"Times New Roman,serif\" font-size=\"14.00\">capital&#45;gain &lt;= 5095.5</text>\r\n",
       "<text text-anchor=\"middle\" x=\"687.5\" y=\"-230.8\" font-family=\"Times New Roman,serif\" font-size=\"14.00\">samples = 4469</text>\r\n",
       "<text text-anchor=\"middle\" x=\"687.5\" y=\"-215.8\" font-family=\"Times New Roman,serif\" font-size=\"14.00\">value = [1255, 3214]</text>\r\n",
       "<text text-anchor=\"middle\" x=\"687.5\" y=\"-200.8\" font-family=\"Times New Roman,serif\" font-size=\"14.00\">class = &gt;= 50k</text>\r\n",
       "</g>\r\n",
       "<!-- 2&#45;&gt;4 -->\r\n",
       "<g id=\"edge14\" class=\"edge\"><title>2&#45;&gt;4</title>\r\n",
       "<path fill=\"none\" stroke=\"black\" d=\"M580.798,-296.884C595.776,-287.214 612.274,-276.563 627.728,-266.587\"/>\r\n",
       "<polygon fill=\"black\" stroke=\"black\" points=\"629.686,-269.489 636.189,-261.125 625.889,-263.608 629.686,-269.489\"/>\r\n",
       "</g>\r\n",
       "<!-- 7 -->\r\n",
       "<g id=\"node11\" class=\"node\"><title>7</title>\r\n",
       "<polygon fill=\"#f0b68d\" stroke=\"black\" points=\"460.5,-157 320.5,-157 320.5,-89 460.5,-89 460.5,-157\"/>\r\n",
       "<text text-anchor=\"middle\" x=\"390.5\" y=\"-141.8\" font-family=\"Times New Roman,serif\" font-size=\"14.00\">education&#45;num &lt;= 8.5</text>\r\n",
       "<text text-anchor=\"middle\" x=\"390.5\" y=\"-126.8\" font-family=\"Times New Roman,serif\" font-size=\"14.00\">samples = 9979</text>\r\n",
       "<text text-anchor=\"middle\" x=\"390.5\" y=\"-111.8\" font-family=\"Times New Roman,serif\" font-size=\"14.00\">value = [7018, 2961]</text>\r\n",
       "<text text-anchor=\"middle\" x=\"390.5\" y=\"-96.8\" font-family=\"Times New Roman,serif\" font-size=\"14.00\">class = &lt; 50k</text>\r\n",
       "</g>\r\n",
       "<!-- 3&#45;&gt;7 -->\r\n",
       "<g id=\"edge10\" class=\"edge\"><title>3&#45;&gt;7</title>\r\n",
       "<path fill=\"none\" stroke=\"black\" d=\"M483.695,-192.884C470.921,-183.442 456.88,-173.064 443.659,-163.292\"/>\r\n",
       "<polygon fill=\"black\" stroke=\"black\" points=\"445.674,-160.429 435.552,-157.299 441.513,-166.058 445.674,-160.429\"/>\r\n",
       "</g>\r\n",
       "<!-- 8 -->\r\n",
       "<g id=\"node14\" class=\"node\"><title>8</title>\r\n",
       "<polygon fill=\"#3d9fe6\" stroke=\"black\" points=\"590,-149.5 479,-149.5 479,-96.5 590,-96.5 590,-149.5\"/>\r\n",
       "<text text-anchor=\"middle\" x=\"534.5\" y=\"-134.3\" font-family=\"Times New Roman,serif\" font-size=\"14.00\">samples = 528</text>\r\n",
       "<text text-anchor=\"middle\" x=\"534.5\" y=\"-119.3\" font-family=\"Times New Roman,serif\" font-size=\"14.00\">value = [11, 517]</text>\r\n",
       "<text text-anchor=\"middle\" x=\"534.5\" y=\"-104.3\" font-family=\"Times New Roman,serif\" font-size=\"14.00\">class = &gt;= 50k</text>\r\n",
       "</g>\r\n",
       "<!-- 3&#45;&gt;8 -->\r\n",
       "<g id=\"edge13\" class=\"edge\"><title>3&#45;&gt;8</title>\r\n",
       "<path fill=\"none\" stroke=\"black\" d=\"M530.448,-192.884C531.076,-182.216 531.773,-170.352 532.411,-159.519\"/>\r\n",
       "<polygon fill=\"black\" stroke=\"black\" points=\"535.905,-159.708 532.999,-149.52 528.918,-159.297 535.905,-159.708\"/>\r\n",
       "</g>\r\n",
       "<!-- 9 -->\r\n",
       "<g id=\"node12\" class=\"node\"><title>9</title>\r\n",
       "<polygon fill=\"#e88f4f\" stroke=\"black\" points=\"437,-53 312,-53 312,-0 437,-0 437,-53\"/>\r\n",
       "<text text-anchor=\"middle\" x=\"374.5\" y=\"-37.8\" font-family=\"Times New Roman,serif\" font-size=\"14.00\">samples = 1656</text>\r\n",
       "<text text-anchor=\"middle\" x=\"374.5\" y=\"-22.8\" font-family=\"Times New Roman,serif\" font-size=\"14.00\">value = [1489, 167]</text>\r\n",
       "<text text-anchor=\"middle\" x=\"374.5\" y=\"-7.8\" font-family=\"Times New Roman,serif\" font-size=\"14.00\">class = &lt; 50k</text>\r\n",
       "</g>\r\n",
       "<!-- 7&#45;&gt;9 -->\r\n",
       "<g id=\"edge11\" class=\"edge\"><title>7&#45;&gt;9</title>\r\n",
       "<path fill=\"none\" stroke=\"black\" d=\"M384.904,-88.9485C383.495,-80.6238 381.975,-71.6509 380.545,-63.2027\"/>\r\n",
       "<polygon fill=\"black\" stroke=\"black\" points=\"383.978,-62.5121 378.858,-53.2367 377.076,-63.6807 383.978,-62.5121\"/>\r\n",
       "</g>\r\n",
       "<!-- 10 -->\r\n",
       "<g id=\"node13\" class=\"node\"><title>10</title>\r\n",
       "<polygon fill=\"#f2c19d\" stroke=\"black\" points=\"586,-53 455,-53 455,-0 586,-0 586,-53\"/>\r\n",
       "<text text-anchor=\"middle\" x=\"520.5\" y=\"-37.8\" font-family=\"Times New Roman,serif\" font-size=\"14.00\">samples = 8323</text>\r\n",
       "<text text-anchor=\"middle\" x=\"520.5\" y=\"-22.8\" font-family=\"Times New Roman,serif\" font-size=\"14.00\">value = [5529, 2794]</text>\r\n",
       "<text text-anchor=\"middle\" x=\"520.5\" y=\"-7.8\" font-family=\"Times New Roman,serif\" font-size=\"14.00\">class = &lt; 50k</text>\r\n",
       "</g>\r\n",
       "<!-- 7&#45;&gt;10 -->\r\n",
       "<g id=\"edge12\" class=\"edge\"><title>7&#45;&gt;10</title>\r\n",
       "<path fill=\"none\" stroke=\"black\" d=\"M435.968,-88.9485C449.181,-79.3431 463.582,-68.8747 476.692,-59.345\"/>\r\n",
       "<polygon fill=\"black\" stroke=\"black\" points=\"479.064,-61.9477 485.095,-53.2367 474.948,-56.2856 479.064,-61.9477\"/>\r\n",
       "</g>\r\n",
       "<!-- 11 -->\r\n",
       "<g id=\"node16\" class=\"node\"><title>11</title>\r\n",
       "<polygon fill=\"#9bcdf2\" stroke=\"black\" points=\"756,-157 615,-157 615,-89 756,-89 756,-157\"/>\r\n",
       "<text text-anchor=\"middle\" x=\"685.5\" y=\"-141.8\" font-family=\"Times New Roman,serif\" font-size=\"14.00\">capital&#45;loss &lt;= 1782.5</text>\r\n",
       "<text text-anchor=\"middle\" x=\"685.5\" y=\"-126.8\" font-family=\"Times New Roman,serif\" font-size=\"14.00\">samples = 3788</text>\r\n",
       "<text text-anchor=\"middle\" x=\"685.5\" y=\"-111.8\" font-family=\"Times New Roman,serif\" font-size=\"14.00\">value = [1252, 2536]</text>\r\n",
       "<text text-anchor=\"middle\" x=\"685.5\" y=\"-96.8\" font-family=\"Times New Roman,serif\" font-size=\"14.00\">class = &gt;= 50k</text>\r\n",
       "</g>\r\n",
       "<!-- 4&#45;&gt;11 -->\r\n",
       "<g id=\"edge15\" class=\"edge\"><title>4&#45;&gt;11</title>\r\n",
       "<path fill=\"none\" stroke=\"black\" d=\"M686.851,-192.884C686.692,-184.778 686.519,-175.982 686.352,-167.472\"/>\r\n",
       "<polygon fill=\"black\" stroke=\"black\" points=\"689.848,-167.229 686.153,-157.299 682.85,-167.366 689.848,-167.229\"/>\r\n",
       "</g>\r\n",
       "<!-- 12 -->\r\n",
       "<g id=\"node19\" class=\"node\"><title>12</title>\r\n",
       "<polygon fill=\"#3a9de5\" stroke=\"black\" points=\"878.5,-149.5 774.5,-149.5 774.5,-96.5 878.5,-96.5 878.5,-149.5\"/>\r\n",
       "<text text-anchor=\"middle\" x=\"826.5\" y=\"-134.3\" font-family=\"Times New Roman,serif\" font-size=\"14.00\">samples = 681</text>\r\n",
       "<text text-anchor=\"middle\" x=\"826.5\" y=\"-119.3\" font-family=\"Times New Roman,serif\" font-size=\"14.00\">value = [3, 678]</text>\r\n",
       "<text text-anchor=\"middle\" x=\"826.5\" y=\"-104.3\" font-family=\"Times New Roman,serif\" font-size=\"14.00\">class = &gt;= 50k</text>\r\n",
       "</g>\r\n",
       "<!-- 4&#45;&gt;12 -->\r\n",
       "<g id=\"edge18\" class=\"edge\"><title>4&#45;&gt;12</title>\r\n",
       "<path fill=\"none\" stroke=\"black\" d=\"M732.629,-192.884C748.965,-180.896 767.359,-167.399 783.506,-155.549\"/>\r\n",
       "<polygon fill=\"black\" stroke=\"black\" points=\"785.731,-158.258 791.723,-149.52 781.59,-152.614 785.731,-158.258\"/>\r\n",
       "</g>\r\n",
       "<!-- 15 -->\r\n",
       "<g id=\"node17\" class=\"node\"><title>15</title>\r\n",
       "<polygon fill=\"#abd5f4\" stroke=\"black\" points=\"747,-53 616,-53 616,-0 747,-0 747,-53\"/>\r\n",
       "<text text-anchor=\"middle\" x=\"681.5\" y=\"-37.8\" font-family=\"Times New Roman,serif\" font-size=\"14.00\">samples = 3390</text>\r\n",
       "<text text-anchor=\"middle\" x=\"681.5\" y=\"-22.8\" font-family=\"Times New Roman,serif\" font-size=\"14.00\">value = [1239, 2151]</text>\r\n",
       "<text text-anchor=\"middle\" x=\"681.5\" y=\"-7.8\" font-family=\"Times New Roman,serif\" font-size=\"14.00\">class = &gt;= 50k</text>\r\n",
       "</g>\r\n",
       "<!-- 11&#45;&gt;15 -->\r\n",
       "<g id=\"edge16\" class=\"edge\"><title>11&#45;&gt;15</title>\r\n",
       "<path fill=\"none\" stroke=\"black\" d=\"M684.101,-88.9485C683.752,-80.7153 683.377,-71.848 683.023,-63.4814\"/>\r\n",
       "<polygon fill=\"black\" stroke=\"black\" points=\"686.509,-63.0797 682.589,-53.2367 679.516,-63.3758 686.509,-63.0797\"/>\r\n",
       "</g>\r\n",
       "<!-- 16 -->\r\n",
       "<g id=\"node18\" class=\"node\"><title>16</title>\r\n",
       "<polygon fill=\"#40a0e6\" stroke=\"black\" points=\"876,-53 765,-53 765,-0 876,-0 876,-53\"/>\r\n",
       "<text text-anchor=\"middle\" x=\"820.5\" y=\"-37.8\" font-family=\"Times New Roman,serif\" font-size=\"14.00\">samples = 398</text>\r\n",
       "<text text-anchor=\"middle\" x=\"820.5\" y=\"-22.8\" font-family=\"Times New Roman,serif\" font-size=\"14.00\">value = [13, 385]</text>\r\n",
       "<text text-anchor=\"middle\" x=\"820.5\" y=\"-7.8\" font-family=\"Times New Roman,serif\" font-size=\"14.00\">class = &gt;= 50k</text>\r\n",
       "</g>\r\n",
       "<!-- 11&#45;&gt;16 -->\r\n",
       "<g id=\"edge17\" class=\"edge\"><title>11&#45;&gt;16</title>\r\n",
       "<path fill=\"none\" stroke=\"black\" d=\"M732.716,-88.9485C746.569,-79.2516 761.678,-68.6752 775.396,-59.073\"/>\r\n",
       "<polygon fill=\"black\" stroke=\"black\" points=\"777.548,-61.8387 783.733,-53.2367 773.534,-56.1041 777.548,-61.8387\"/>\r\n",
       "</g>\r\n",
       "</g>\r\n",
       "</svg>\r\n"
      ],
      "text/plain": [
       "<graphviz.files.Source at 0x19e5abd8be0>"
      ]
     },
     "metadata": {},
     "output_type": "display_data"
    }
   ],
   "source": [
    "from sklearn.tree import export_graphviz\n",
    "export_graphviz(model, out_file='tree.dot', class_names=['< 50k','>= 50k'],\n",
    "        feature_names=x.columns, impurity=False, filled=True)\n",
    "import os\n",
    "os.environ[\"PATH\"] += os.pathsep + 'C:/Program Files (x86)/Graphviz2.38/bin/'\n",
    "import graphviz #패키지 설치 anaconda prompt / pip install graphviz \n",
    "with open('tree.dot') as f:\n",
    "    dot_graph = f.read()    \n",
    "g = graphviz.Source(dot_graph)\n",
    "display(g)"
   ]
  },
  {
   "cell_type": "code",
   "execution_count": 106,
   "metadata": {},
   "outputs": [
    {
     "data": {
      "text/plain": [
       "array([' State-gov', ' Self-emp-not-inc', ' Private', ' Federal-gov',\n",
       "       ' Local-gov', ' ?', ' Self-emp-inc', ' Without-pay',\n",
       "       ' Never-worked'], dtype=object)"
      ]
     },
     "execution_count": 106,
     "metadata": {},
     "output_type": "execute_result"
    }
   ],
   "source": [
    "df.workclass.unique()"
   ]
  },
  {
   "cell_type": "code",
   "execution_count": 11,
   "metadata": {},
   "outputs": [
    {
     "data": {
      "text/html": [
       "<div>\n",
       "<style scoped>\n",
       "    .dataframe tbody tr th:only-of-type {\n",
       "        vertical-align: middle;\n",
       "    }\n",
       "\n",
       "    .dataframe tbody tr th {\n",
       "        vertical-align: top;\n",
       "    }\n",
       "\n",
       "    .dataframe thead th {\n",
       "        text-align: right;\n",
       "    }\n",
       "</style>\n",
       "<table border=\"1\" class=\"dataframe\">\n",
       "  <thead>\n",
       "    <tr style=\"text-align: right;\">\n",
       "      <th></th>\n",
       "      <th>age</th>\n",
       "      <th>fnlwgt</th>\n",
       "      <th>education-num</th>\n",
       "      <th>capital-gain</th>\n",
       "      <th>capital-loss</th>\n",
       "      <th>hours-per-week</th>\n",
       "    </tr>\n",
       "  </thead>\n",
       "  <tbody>\n",
       "    <tr>\n",
       "      <th>count</th>\n",
       "      <td>32561.000000</td>\n",
       "      <td>3.256100e+04</td>\n",
       "      <td>32561.000000</td>\n",
       "      <td>32561.000000</td>\n",
       "      <td>32561.000000</td>\n",
       "      <td>32561.000000</td>\n",
       "    </tr>\n",
       "    <tr>\n",
       "      <th>mean</th>\n",
       "      <td>38.581647</td>\n",
       "      <td>1.897784e+05</td>\n",
       "      <td>10.080679</td>\n",
       "      <td>1077.648844</td>\n",
       "      <td>87.303830</td>\n",
       "      <td>40.437456</td>\n",
       "    </tr>\n",
       "    <tr>\n",
       "      <th>std</th>\n",
       "      <td>13.640433</td>\n",
       "      <td>1.055500e+05</td>\n",
       "      <td>2.572720</td>\n",
       "      <td>7385.292085</td>\n",
       "      <td>402.960219</td>\n",
       "      <td>12.347429</td>\n",
       "    </tr>\n",
       "    <tr>\n",
       "      <th>min</th>\n",
       "      <td>17.000000</td>\n",
       "      <td>1.228500e+04</td>\n",
       "      <td>1.000000</td>\n",
       "      <td>0.000000</td>\n",
       "      <td>0.000000</td>\n",
       "      <td>1.000000</td>\n",
       "    </tr>\n",
       "    <tr>\n",
       "      <th>25%</th>\n",
       "      <td>28.000000</td>\n",
       "      <td>1.178270e+05</td>\n",
       "      <td>9.000000</td>\n",
       "      <td>0.000000</td>\n",
       "      <td>0.000000</td>\n",
       "      <td>40.000000</td>\n",
       "    </tr>\n",
       "    <tr>\n",
       "      <th>50%</th>\n",
       "      <td>37.000000</td>\n",
       "      <td>1.783560e+05</td>\n",
       "      <td>10.000000</td>\n",
       "      <td>0.000000</td>\n",
       "      <td>0.000000</td>\n",
       "      <td>40.000000</td>\n",
       "    </tr>\n",
       "    <tr>\n",
       "      <th>75%</th>\n",
       "      <td>48.000000</td>\n",
       "      <td>2.370510e+05</td>\n",
       "      <td>12.000000</td>\n",
       "      <td>0.000000</td>\n",
       "      <td>0.000000</td>\n",
       "      <td>45.000000</td>\n",
       "    </tr>\n",
       "    <tr>\n",
       "      <th>max</th>\n",
       "      <td>90.000000</td>\n",
       "      <td>1.484705e+06</td>\n",
       "      <td>16.000000</td>\n",
       "      <td>99999.000000</td>\n",
       "      <td>4356.000000</td>\n",
       "      <td>99.000000</td>\n",
       "    </tr>\n",
       "  </tbody>\n",
       "</table>\n",
       "</div>"
      ],
      "text/plain": [
       "                age        fnlwgt  education-num  capital-gain  capital-loss  \\\n",
       "count  32561.000000  3.256100e+04   32561.000000  32561.000000  32561.000000   \n",
       "mean      38.581647  1.897784e+05      10.080679   1077.648844     87.303830   \n",
       "std       13.640433  1.055500e+05       2.572720   7385.292085    402.960219   \n",
       "min       17.000000  1.228500e+04       1.000000      0.000000      0.000000   \n",
       "25%       28.000000  1.178270e+05       9.000000      0.000000      0.000000   \n",
       "50%       37.000000  1.783560e+05      10.000000      0.000000      0.000000   \n",
       "75%       48.000000  2.370510e+05      12.000000      0.000000      0.000000   \n",
       "max       90.000000  1.484705e+06      16.000000  99999.000000   4356.000000   \n",
       "\n",
       "       hours-per-week  \n",
       "count    32561.000000  \n",
       "mean        40.437456  \n",
       "std         12.347429  \n",
       "min          1.000000  \n",
       "25%         40.000000  \n",
       "50%         40.000000  \n",
       "75%         45.000000  \n",
       "max         99.000000  "
      ]
     },
     "execution_count": 11,
     "metadata": {},
     "output_type": "execute_result"
    }
   ],
   "source": [
    "#df.mean()\n",
    "df.describe() #통계정보 보기"
   ]
  },
  {
   "cell_type": "code",
   "execution_count": 27,
   "metadata": {},
   "outputs": [
    {
     "data": {
      "text/plain": [
       "(32561, 21648, 12285, 1484705)"
      ]
     },
     "execution_count": 27,
     "metadata": {},
     "output_type": "execute_result"
    }
   ],
   "source": [
    "len(df.fnlwgt),df.fnlwgt.nunique(), df.fnlwgt.min(), df.fnlwgt.max()"
   ]
  },
  {
   "cell_type": "markdown",
   "metadata": {},
   "source": [
    "age: continuous. \n",
    "workclass: Private, Self-emp-not-inc, Self-emp-inc, Federal-gov, Local-gov, State-gov, Without-pay, Never-worked. \n",
    "fnlwgt: continuous. \n",
    "education: Bachelors, Some-college, 11th, HS-grad, Prof-school, Assoc-acdm, Assoc-voc, 9th, 7th-8th, 12th, Masters, 1st-4th, 10th, Doctorate, 5th-6th, Preschool. \n",
    "education-num: continuous. \n",
    "marital-status: Married-civ-spouse, Divorced, Never-married, Separated, Widowed, Married-spouse-absent, Married-AF-spouse. \n",
    "occupation: Tech-support, Craft-repair, Other-service, Sales, Exec-managerial, Prof-specialty, Handlers-cleaners, Machine-op-inspct, Adm-clerical, Farming-fishing, Transport-moving, Priv-house-serv, Protective-serv, Armed-Forces. \n",
    "relationship: Wife, Own-child, Husband, Not-in-family, Other-relative, Unmarried. \n",
    "race: White, Asian-Pac-Islander, Amer-Indian-Eskimo, Other, Black. \n",
    "sex: Female, Male. \n",
    "capital-gain: continuous. \n",
    "capital-loss: continuous. \n",
    "hours-per-week: continuous. \n",
    "native-country: United-States, Cambodia, England, Puerto-Rico, Canada, Germany, Outlying-US(Guam-USVI-etc), India, Japan, Greece, South, China, Cuba, Iran, Honduras, Philippines, Italy, Poland, Jamaica, Vietnam, Mexico, Portugal, Ireland, France, Dominican-Republic, Laos, Ecuador, Taiwan, Haiti, Columbia, Hungary, Guatemala, Nicaragua, Scotland, Thailand, Yugoslavia, El-Salvador, Trinadad&Tobago, Peru, Hong, Holand-Netherlands."
   ]
  },
  {
   "cell_type": "code",
   "execution_count": 14,
   "metadata": {},
   "outputs": [
    {
     "data": {
      "text/plain": [
       "0"
      ]
     },
     "execution_count": 14,
     "metadata": {},
     "output_type": "execute_result"
    }
   ],
   "source": [
    "df.isna().sum().sum()"
   ]
  },
  {
   "cell_type": "code",
   "execution_count": 23,
   "metadata": {},
   "outputs": [
    {
     "data": {
      "image/png": "[encoded data removed]",
      "text/plain": [
       "<Figure size 504x504 with 6 Axes>"
      ]
     },
     "metadata": {
      "needs_background": "light"
     },
     "output_type": "display_data"
    }
   ],
   "source": [
    "#그림이 안나올때\n",
    "%matplotlib inline\n",
    "a = df.hist(figsize=(7,7))"
   ]
  },
  {
   "cell_type": "code",
   "execution_count": 29,
   "metadata": {},
   "outputs": [
    {
     "data": {
      "text/html": [
       "<div>\n",
       "<style scoped>\n",
       "    .dataframe tbody tr th:only-of-type {\n",
       "        vertical-align: middle;\n",
       "    }\n",
       "\n",
       "    .dataframe tbody tr th {\n",
       "        vertical-align: top;\n",
       "    }\n",
       "\n",
       "    .dataframe thead th {\n",
       "        text-align: right;\n",
       "    }\n",
       "</style>\n",
       "<table border=\"1\" class=\"dataframe\">\n",
       "  <thead>\n",
       "    <tr style=\"text-align: right;\">\n",
       "      <th></th>\n",
       "      <th>age</th>\n",
       "      <th>workclass</th>\n",
       "      <th>fnlwgt</th>\n",
       "      <th>education</th>\n",
       "      <th>education-num</th>\n",
       "      <th>marital-status</th>\n",
       "      <th>occupation</th>\n",
       "      <th>relationship</th>\n",
       "      <th>race</th>\n",
       "      <th>sex</th>\n",
       "      <th>capital-gain</th>\n",
       "      <th>capital-loss</th>\n",
       "      <th>hours-per-week</th>\n",
       "      <th>native-country</th>\n",
       "      <th>income</th>\n",
       "    </tr>\n",
       "  </thead>\n",
       "  <tbody>\n",
       "    <tr>\n",
       "      <th>0</th>\n",
       "      <td>39</td>\n",
       "      <td>State-gov</td>\n",
       "      <td>77516</td>\n",
       "      <td>Bachelors</td>\n",
       "      <td>13</td>\n",
       "      <td>Never-married</td>\n",
       "      <td>Adm-clerical</td>\n",
       "      <td>Not-in-family</td>\n",
       "      <td>White</td>\n",
       "      <td>Male</td>\n",
       "      <td>2174</td>\n",
       "      <td>0</td>\n",
       "      <td>40</td>\n",
       "      <td>United-States</td>\n",
       "      <td>&lt;=50K</td>\n",
       "    </tr>\n",
       "  </tbody>\n",
       "</table>\n",
       "</div>"
      ],
      "text/plain": [
       "   age   workclass  fnlwgt   education  education-num  marital-status  \\\n",
       "0   39   State-gov   77516   Bachelors             13   Never-married   \n",
       "\n",
       "      occupation    relationship    race    sex  capital-gain  capital-loss  \\\n",
       "0   Adm-clerical   Not-in-family   White   Male          2174             0   \n",
       "\n",
       "   hours-per-week  native-country  income  \n",
       "0              40   United-States   <=50K  "
      ]
     },
     "execution_count": 29,
     "metadata": {},
     "output_type": "execute_result"
    }
   ],
   "source": [
    "df.head(1)"
   ]
  },
  {
   "cell_type": "code",
   "execution_count": 31,
   "metadata": {},
   "outputs": [
    {
     "data": {
      "text/plain": [
       " Private             22696\n",
       " Self-emp-not-inc     2541\n",
       " Local-gov            2093\n",
       " ?                    1836\n",
       " State-gov            1298\n",
       " Self-emp-inc         1116\n",
       " Federal-gov           960\n",
       " Without-pay            14\n",
       " Never-worked            7\n",
       "Name: workclass, dtype: int64"
      ]
     },
     "execution_count": 31,
     "metadata": {},
     "output_type": "execute_result"
    }
   ],
   "source": [
    "df.workclass.value_counts() #값이 몇번 나오는지를 셉니다"
   ]
  },
  {
   "cell_type": "code",
   "execution_count": 34,
   "metadata": {},
   "outputs": [
    {
     "data": {
      "text/plain": [
       "<matplotlib.axes._subplots.AxesSubplot at 0x19e4ed52f98>"
      ]
     },
     "execution_count": 34,
     "metadata": {},
     "output_type": "execute_result"
    },
    {
     "data": {
      "image/png": "[encoded data removed]",
      "text/plain": [
       "<Figure size 432x288 with 1 Axes>"
      ]
     },
     "metadata": {
      "needs_background": "light"
     },
     "output_type": "display_data"
    }
   ],
   "source": [
    "df.workclass.value_counts().plot.barh()"
   ]
  },
  {
   "cell_type": "code",
   "execution_count": 35,
   "metadata": {},
   "outputs": [
    {
     "data": {
      "text/plain": [
       "<matplotlib.axes._subplots.AxesSubplot at 0x19e4ed83b70>"
      ]
     },
     "execution_count": 35,
     "metadata": {},
     "output_type": "execute_result"
    },
    {
     "data": {
      "image/png": "[encoded data removed]",
      "text/plain": [
       "<Figure size 432x288 with 1 Axes>"
      ]
     },
     "metadata": {
      "needs_background": "light"
     },
     "output_type": "display_data"
    }
   ],
   "source": [
    "df.education.value_counts().plot.barh()"
   ]
  },
  {
   "cell_type": "code",
   "execution_count": 37,
   "metadata": {},
   "outputs": [
    {
     "data": {
      "text/plain": [
       "<matplotlib.axes._subplots.AxesSubplot at 0x19e4ed83dd8>"
      ]
     },
     "execution_count": 37,
     "metadata": {},
     "output_type": "execute_result"
    },
    {
     "data": {
      "image/png": "[encoded data removed]",
      "text/plain": [
       "<Figure size 432x288 with 1 Axes>"
      ]
     },
     "metadata": {
      "needs_background": "light"
     },
     "output_type": "display_data"
    }
   ],
   "source": [
    "df['marital-status'].value_counts().plot.barh()"
   ]
  },
  {
   "cell_type": "code",
   "execution_count": 38,
   "metadata": {},
   "outputs": [
    {
     "data": {
      "text/plain": [
       "<matplotlib.axes._subplots.AxesSubplot at 0x19e4edc7390>"
      ]
     },
     "execution_count": 38,
     "metadata": {},
     "output_type": "execute_result"
    },
    {
     "data": {
      "image/png": "[encoded data removed]",
      "text/plain": [
       "<Figure size 432x288 with 1 Axes>"
      ]
     },
     "metadata": {
      "needs_background": "light"
     },
     "output_type": "display_data"
    }
   ],
   "source": [
    "df['occupation'].value_counts().plot.barh()"
   ]
  },
  {
   "cell_type": "code",
   "execution_count": 42,
   "metadata": {
    "scrolled": true
   },
   "outputs": [
    {
     "data": {
      "text/plain": [
       "<matplotlib.axes._subplots.AxesSubplot at 0x19e4eadf320>"
      ]
     },
     "execution_count": 42,
     "metadata": {},
     "output_type": "execute_result"
    },
    {
     "data": {
      "image/png": "[encoded data removed]",
      "text/plain": [
       "<Figure size 432x288 with 1 Axes>"
      ]
     },
     "metadata": {},
     "output_type": "display_data"
    }
   ],
   "source": [
    "df['race'].value_counts().plot.pie() #카테고리가 많지 않을때 효과적"
   ]
  },
  {
   "cell_type": "code",
   "execution_count": 46,
   "metadata": {
    "scrolled": false
   },
   "outputs": [
    {
     "data": {
      "text/plain": [
       "<matplotlib.axes._subplots.AxesSubplot at 0x19e4eadfd68>"
      ]
     },
     "execution_count": 46,
     "metadata": {},
     "output_type": "execute_result"
    },
    {
     "data": {
      "image/png": "[encoded data removed]",
      "text/plain": [
       "<Figure size 432x288 with 1 Axes>"
      ]
     },
     "metadata": {
      "needs_background": "light"
     },
     "output_type": "display_data"
    }
   ],
   "source": [
    "df['native-country'].value_counts().plot.bar()"
   ]
  },
  {
   "cell_type": "code",
   "execution_count": 48,
   "metadata": {},
   "outputs": [
    {
     "data": {
      "text/plain": [
       "array([' United-States', ' Cuba', ' Jamaica', ' India', ' ?', ' Mexico',\n",
       "       ' South', ' Puerto-Rico', ' Honduras', ' England', ' Canada',\n",
       "       ' Germany', ' Iran', ' Philippines', ' Italy', ' Poland',\n",
       "       ' Columbia', ' Cambodia', ' Thailand', ' Ecuador', ' Laos',\n",
       "       ' Taiwan', ' Haiti', ' Portugal', ' Dominican-Republic',\n",
       "       ' El-Salvador', ' France', ' Guatemala', ' China', ' Japan',\n",
       "       ' Yugoslavia', ' Peru', ' Outlying-US(Guam-USVI-etc)', ' Scotland',\n",
       "       ' Trinadad&Tobago', ' Greece', ' Nicaragua', ' Vietnam', ' Hong',\n",
       "       ' Ireland', ' Hungary', ' Holand-Netherlands'], dtype=object)"
      ]
     },
     "execution_count": 48,
     "metadata": {},
     "output_type": "execute_result"
    }
   ],
   "source": [
    "df['native-country'].unique()"
   ]
  },
  {
   "cell_type": "code",
   "execution_count": 52,
   "metadata": {
    "scrolled": true
   },
   "outputs": [
    {
     "data": {
      "text/plain": [
       "<matplotlib.axes._subplots.AxesSubplot at 0x19e504e5a58>"
      ]
     },
     "execution_count": 52,
     "metadata": {},
     "output_type": "execute_result"
    },
    {
     "data": {
      "image/png": "[encoded data removed]",
      "text/plain": [
       "<Figure size 576x720 with 1 Axes>"
      ]
     },
     "metadata": {
      "needs_background": "light"
     },
     "output_type": "display_data"
    }
   ],
   "source": [
    "#미국인 빼고 조건부 검색\n",
    "cond = df['native-country'] !=' United-States' \n",
    "df[cond]['native-country'].value_counts().plot.barh(figsize=(8,10))"
   ]
  },
  {
   "cell_type": "code",
   "execution_count": 54,
   "metadata": {},
   "outputs": [
    {
     "data": {
      "text/plain": [
       "<matplotlib.axes._subplots.AxesSubplot at 0x19e506380f0>"
      ]
     },
     "execution_count": 54,
     "metadata": {},
     "output_type": "execute_result"
    },
    {
     "data": {
      "image/png": "[encoded data removed]",
      "text/plain": [
       "<Figure size 432x288 with 1 Axes>"
      ]
     },
     "metadata": {},
     "output_type": "display_data"
    }
   ],
   "source": [
    "df['income'].value_counts().plot.pie()"
   ]
  },
  {
   "cell_type": "code",
   "execution_count": 39,
   "metadata": {},
   "outputs": [
    {
     "data": {
      "text/plain": [
       "Index(['age', 'workclass', 'fnlwgt', 'education', 'education-num',\n",
       "       'marital-status', 'occupation', 'relationship', 'race', 'sex',\n",
       "       'capital-gain', 'capital-loss', 'hours-per-week', 'native-country',\n",
       "       'income'],\n",
       "      dtype='object')"
      ]
     },
     "execution_count": 39,
     "metadata": {},
     "output_type": "execute_result"
    }
   ],
   "source": [
    "df.columns"
   ]
  },
  {
   "cell_type": "markdown",
   "metadata": {},
   "source": [
    "그룹별 데이터 분석\n",
    "\n",
    "컬럼이 카테고리여야 합니다. \n",
    "수치형 컬럼은 그룹별로 분석할 수 없어요\n",
    "\n",
    ".groupby('컬럼').mean()\n",
    ".groupby('컬럼').agg(['mean', 'max'])\n",
    ".groupby(['컬럼', '컬럼']).mean()"
   ]
  },
  {
   "cell_type": "code",
   "execution_count": 76,
   "metadata": {},
   "outputs": [
    {
     "data": {
      "text/plain": [
       "Index(['age', 'workclass', 'fnlwgt', 'education', 'education-num',\n",
       "       'marital-status', 'occupation', 'relationship', 'race', 'sex',\n",
       "       'capital-gain', 'capital-loss', 'hours-per-week', 'native-country',\n",
       "       'income'],\n",
       "      dtype='object')"
      ]
     },
     "execution_count": 76,
     "metadata": {},
     "output_type": "execute_result"
    }
   ],
   "source": [
    "df.columns"
   ]
  },
  {
   "cell_type": "code",
   "execution_count": 81,
   "metadata": {},
   "outputs": [
    {
     "data": {
      "text/plain": [
       "<matplotlib.axes._subplots.AxesSubplot at 0x19e525e7a58>"
      ]
     },
     "execution_count": 81,
     "metadata": {},
     "output_type": "execute_result"
    },
    {
     "data": {
      "image/png": "[encoded data removed]",
      "text/plain": [
       "<Figure size 288x576 with 1 Axes>"
      ]
     },
     "metadata": {
      "needs_background": "light"
     },
     "output_type": "display_data"
    }
   ],
   "source": [
    "# 직업별로 일주일에 일하는 시간을 그려봅시다\n",
    "# 직업별로 그룹화 한 다음 '일하는 시간' 을 그래프로 나타냅니다\n",
    "g = df.groupby('occupation').mean() \n",
    "g['hours-per-week'].plot.barh(figsize=(4,8)) "
   ]
  },
  {
   "cell_type": "code",
   "execution_count": 75,
   "metadata": {},
   "outputs": [
    {
     "data": {
      "text/plain": [
       "<matplotlib.axes._subplots.AxesSubplot at 0x19e502b18d0>"
      ]
     },
     "execution_count": 75,
     "metadata": {},
     "output_type": "execute_result"
    },
    {
     "data": {
      "image/png": "[encoded data removed]",
      "text/plain": [
       "<Figure size 576x576 with 1 Axes>"
      ]
     },
     "metadata": {
      "needs_background": "light"
     },
     "output_type": "display_data"
    }
   ],
   "source": [
    "# 국가별 교육 정도\n",
    "g = df.groupby('native-country').mean()\n",
    "g['education-num'].plot.barh(figsize=(8,8)) # 컬럼 하나만 그래프로 그립니다"
   ]
  },
  {
   "cell_type": "code",
   "execution_count": 64,
   "metadata": {},
   "outputs": [
    {
     "data": {
      "text/html": [
       "<div>\n",
       "<style scoped>\n",
       "    .dataframe tbody tr th:only-of-type {\n",
       "        vertical-align: middle;\n",
       "    }\n",
       "\n",
       "    .dataframe tbody tr th {\n",
       "        vertical-align: top;\n",
       "    }\n",
       "\n",
       "    .dataframe thead th {\n",
       "        text-align: right;\n",
       "    }\n",
       "</style>\n",
       "<table border=\"1\" class=\"dataframe\">\n",
       "  <thead>\n",
       "    <tr style=\"text-align: right;\">\n",
       "      <th></th>\n",
       "      <th>age</th>\n",
       "      <th>fnlwgt</th>\n",
       "      <th>education-num</th>\n",
       "      <th>capital-gain</th>\n",
       "      <th>capital-loss</th>\n",
       "      <th>hours-per-week</th>\n",
       "    </tr>\n",
       "    <tr>\n",
       "      <th>native-country</th>\n",
       "      <th></th>\n",
       "      <th></th>\n",
       "      <th></th>\n",
       "      <th></th>\n",
       "      <th></th>\n",
       "      <th></th>\n",
       "    </tr>\n",
       "  </thead>\n",
       "  <tbody>\n",
       "    <tr>\n",
       "      <th>Taiwan</th>\n",
       "      <td>33.823529</td>\n",
       "      <td>186441.392157</td>\n",
       "      <td>13.294118</td>\n",
       "      <td>2147.039216</td>\n",
       "      <td>154.823529</td>\n",
       "      <td>38.882353</td>\n",
       "    </tr>\n",
       "    <tr>\n",
       "      <th>India</th>\n",
       "      <td>38.090000</td>\n",
       "      <td>168539.090000</td>\n",
       "      <td>12.430000</td>\n",
       "      <td>3604.920000</td>\n",
       "      <td>131.120000</td>\n",
       "      <td>41.530000</td>\n",
       "    </tr>\n",
       "    <tr>\n",
       "      <th>Iran</th>\n",
       "      <td>39.418605</td>\n",
       "      <td>182211.395349</td>\n",
       "      <td>12.395349</td>\n",
       "      <td>2044.651163</td>\n",
       "      <td>126.813953</td>\n",
       "      <td>43.976744</td>\n",
       "    </tr>\n",
       "    <tr>\n",
       "      <th>France</th>\n",
       "      <td>38.965517</td>\n",
       "      <td>192050.896552</td>\n",
       "      <td>12.241379</td>\n",
       "      <td>547.034483</td>\n",
       "      <td>0.000000</td>\n",
       "      <td>45.068966</td>\n",
       "    </tr>\n",
       "    <tr>\n",
       "      <th>Japan</th>\n",
       "      <td>38.241935</td>\n",
       "      <td>185703.629032</td>\n",
       "      <td>11.435484</td>\n",
       "      <td>2546.225806</td>\n",
       "      <td>57.532258</td>\n",
       "      <td>43.693548</td>\n",
       "    </tr>\n",
       "    <tr>\n",
       "      <th>China</th>\n",
       "      <td>42.533333</td>\n",
       "      <td>179047.986667</td>\n",
       "      <td>11.120000</td>\n",
       "      <td>366.480000</td>\n",
       "      <td>179.520000</td>\n",
       "      <td>37.786667</td>\n",
       "    </tr>\n",
       "    <tr>\n",
       "      <th>England</th>\n",
       "      <td>41.155556</td>\n",
       "      <td>182375.166667</td>\n",
       "      <td>11.011111</td>\n",
       "      <td>864.722222</td>\n",
       "      <td>82.755556</td>\n",
       "      <td>41.833333</td>\n",
       "    </tr>\n",
       "    <tr>\n",
       "      <th>Germany</th>\n",
       "      <td>39.255474</td>\n",
       "      <td>189325.313869</td>\n",
       "      <td>10.985401</td>\n",
       "      <td>887.094891</td>\n",
       "      <td>77.978102</td>\n",
       "      <td>41.014599</td>\n",
       "    </tr>\n",
       "    <tr>\n",
       "      <th>Thailand</th>\n",
       "      <td>34.944444</td>\n",
       "      <td>184166.666667</td>\n",
       "      <td>10.944444</td>\n",
       "      <td>0.000000</td>\n",
       "      <td>0.000000</td>\n",
       "      <td>45.444444</td>\n",
       "    </tr>\n",
       "    <tr>\n",
       "      <th>South</th>\n",
       "      <td>38.750000</td>\n",
       "      <td>163481.787500</td>\n",
       "      <td>10.912500</td>\n",
       "      <td>1869.737500</td>\n",
       "      <td>169.425000</td>\n",
       "      <td>42.412500</td>\n",
       "    </tr>\n",
       "    <tr>\n",
       "      <th>Philippines</th>\n",
       "      <td>39.444444</td>\n",
       "      <td>166115.116162</td>\n",
       "      <td>10.868687</td>\n",
       "      <td>1018.343434</td>\n",
       "      <td>98.954545</td>\n",
       "      <td>39.595960</td>\n",
       "    </tr>\n",
       "    <tr>\n",
       "      <th>Hungary</th>\n",
       "      <td>49.384615</td>\n",
       "      <td>180488.461538</td>\n",
       "      <td>10.769231</td>\n",
       "      <td>716.615385</td>\n",
       "      <td>128.307692</td>\n",
       "      <td>35.615385</td>\n",
       "    </tr>\n",
       "    <tr>\n",
       "      <th>Canada</th>\n",
       "      <td>42.545455</td>\n",
       "      <td>179852.933884</td>\n",
       "      <td>10.652893</td>\n",
       "      <td>1504.132231</td>\n",
       "      <td>129.933884</td>\n",
       "      <td>40.404959</td>\n",
       "    </tr>\n",
       "    <tr>\n",
       "      <th>Hong</th>\n",
       "      <td>33.650000</td>\n",
       "      <td>222352.750000</td>\n",
       "      <td>10.600000</td>\n",
       "      <td>0.000000</td>\n",
       "      <td>98.850000</td>\n",
       "      <td>40.900000</td>\n",
       "    </tr>\n",
       "    <tr>\n",
       "      <th>?</th>\n",
       "      <td>38.725557</td>\n",
       "      <td>193300.897084</td>\n",
       "      <td>10.598628</td>\n",
       "      <td>1806.518010</td>\n",
       "      <td>118.265866</td>\n",
       "      <td>41.512864</td>\n",
       "    </tr>\n",
       "    <tr>\n",
       "      <th>Outlying-US(Guam-USVI-etc)</th>\n",
       "      <td>38.714286</td>\n",
       "      <td>204487.785714</td>\n",
       "      <td>10.285714</td>\n",
       "      <td>0.000000</td>\n",
       "      <td>0.000000</td>\n",
       "      <td>41.857143</td>\n",
       "    </tr>\n",
       "    <tr>\n",
       "      <th>Scotland</th>\n",
       "      <td>40.416667</td>\n",
       "      <td>168946.083333</td>\n",
       "      <td>10.250000</td>\n",
       "      <td>431.500000</td>\n",
       "      <td>0.000000</td>\n",
       "      <td>41.250000</td>\n",
       "    </tr>\n",
       "    <tr>\n",
       "      <th>United-States</th>\n",
       "      <td>38.655674</td>\n",
       "      <td>187069.021152</td>\n",
       "      <td>10.169455</td>\n",
       "      <td>1089.229928</td>\n",
       "      <td>88.510593</td>\n",
       "      <td>40.447755</td>\n",
       "    </tr>\n",
       "    <tr>\n",
       "      <th>Poland</th>\n",
       "      <td>43.116667</td>\n",
       "      <td>183904.016667</td>\n",
       "      <td>10.100000</td>\n",
       "      <td>684.283333</td>\n",
       "      <td>34.183333</td>\n",
       "      <td>38.333333</td>\n",
       "    </tr>\n",
       "    <tr>\n",
       "      <th>Ireland</th>\n",
       "      <td>36.458333</td>\n",
       "      <td>137997.583333</td>\n",
       "      <td>10.083333</td>\n",
       "      <td>324.458333</td>\n",
       "      <td>78.625000</td>\n",
       "      <td>42.416667</td>\n",
       "    </tr>\n",
       "    <tr>\n",
       "      <th>Holand-Netherlands</th>\n",
       "      <td>32.000000</td>\n",
       "      <td>27882.000000</td>\n",
       "      <td>10.000000</td>\n",
       "      <td>0.000000</td>\n",
       "      <td>2205.000000</td>\n",
       "      <td>40.000000</td>\n",
       "    </tr>\n",
       "    <tr>\n",
       "      <th>Yugoslavia</th>\n",
       "      <td>38.812500</td>\n",
       "      <td>215963.937500</td>\n",
       "      <td>9.937500</td>\n",
       "      <td>347.250000</td>\n",
       "      <td>0.000000</td>\n",
       "      <td>44.562500</td>\n",
       "    </tr>\n",
       "    <tr>\n",
       "      <th>Jamaica</th>\n",
       "      <td>35.592593</td>\n",
       "      <td>212155.234568</td>\n",
       "      <td>9.851852</td>\n",
       "      <td>475.135802</td>\n",
       "      <td>0.000000</td>\n",
       "      <td>38.592593</td>\n",
       "    </tr>\n",
       "    <tr>\n",
       "      <th>Greece</th>\n",
       "      <td>46.206897</td>\n",
       "      <td>143466.206897</td>\n",
       "      <td>9.724138</td>\n",
       "      <td>1283.896552</td>\n",
       "      <td>295.448276</td>\n",
       "      <td>44.241379</td>\n",
       "    </tr>\n",
       "    <tr>\n",
       "      <th>Vietnam</th>\n",
       "      <td>34.059701</td>\n",
       "      <td>163283.925373</td>\n",
       "      <td>9.656716</td>\n",
       "      <td>660.597015</td>\n",
       "      <td>87.298507</td>\n",
       "      <td>37.343284</td>\n",
       "    </tr>\n",
       "    <tr>\n",
       "      <th>Cuba</th>\n",
       "      <td>45.768421</td>\n",
       "      <td>246291.347368</td>\n",
       "      <td>9.600000</td>\n",
       "      <td>367.231579</td>\n",
       "      <td>70.042105</td>\n",
       "      <td>39.157895</td>\n",
       "    </tr>\n",
       "    <tr>\n",
       "      <th>Ecuador</th>\n",
       "      <td>36.642857</td>\n",
       "      <td>185858.821429</td>\n",
       "      <td>9.464286</td>\n",
       "      <td>527.607143</td>\n",
       "      <td>0.000000</td>\n",
       "      <td>39.571429</td>\n",
       "    </tr>\n",
       "    <tr>\n",
       "      <th>Columbia</th>\n",
       "      <td>39.711864</td>\n",
       "      <td>225149.406780</td>\n",
       "      <td>9.372881</td>\n",
       "      <td>180.610169</td>\n",
       "      <td>27.152542</td>\n",
       "      <td>39.067797</td>\n",
       "    </tr>\n",
       "    <tr>\n",
       "      <th>Peru</th>\n",
       "      <td>35.258065</td>\n",
       "      <td>274559.354839</td>\n",
       "      <td>9.354839</td>\n",
       "      <td>59.064516</td>\n",
       "      <td>59.612903</td>\n",
       "      <td>35.387097</td>\n",
       "    </tr>\n",
       "    <tr>\n",
       "      <th>Haiti</th>\n",
       "      <td>38.272727</td>\n",
       "      <td>209019.431818</td>\n",
       "      <td>8.931818</td>\n",
       "      <td>0.000000</td>\n",
       "      <td>73.295455</td>\n",
       "      <td>36.909091</td>\n",
       "    </tr>\n",
       "    <tr>\n",
       "      <th>Italy</th>\n",
       "      <td>46.424658</td>\n",
       "      <td>181685.397260</td>\n",
       "      <td>8.849315</td>\n",
       "      <td>611.506849</td>\n",
       "      <td>27.082192</td>\n",
       "      <td>41.602740</td>\n",
       "    </tr>\n",
       "    <tr>\n",
       "      <th>Cambodia</th>\n",
       "      <td>37.789474</td>\n",
       "      <td>193080.368421</td>\n",
       "      <td>8.789474</td>\n",
       "      <td>1027.842105</td>\n",
       "      <td>183.052632</td>\n",
       "      <td>40.894737</td>\n",
       "    </tr>\n",
       "    <tr>\n",
       "      <th>Nicaragua</th>\n",
       "      <td>33.617647</td>\n",
       "      <td>294574.117647</td>\n",
       "      <td>8.705882</td>\n",
       "      <td>199.823529</td>\n",
       "      <td>100.794118</td>\n",
       "      <td>36.176471</td>\n",
       "    </tr>\n",
       "    <tr>\n",
       "      <th>Honduras</th>\n",
       "      <td>33.846154</td>\n",
       "      <td>255591.307692</td>\n",
       "      <td>8.692308</td>\n",
       "      <td>0.000000</td>\n",
       "      <td>146.307692</td>\n",
       "      <td>36.307692</td>\n",
       "    </tr>\n",
       "    <tr>\n",
       "      <th>Laos</th>\n",
       "      <td>34.722222</td>\n",
       "      <td>211108.000000</td>\n",
       "      <td>8.555556</td>\n",
       "      <td>160.277778</td>\n",
       "      <td>0.000000</td>\n",
       "      <td>40.333333</td>\n",
       "    </tr>\n",
       "    <tr>\n",
       "      <th>Puerto-Rico</th>\n",
       "      <td>40.508772</td>\n",
       "      <td>202535.728070</td>\n",
       "      <td>8.289474</td>\n",
       "      <td>317.192982</td>\n",
       "      <td>55.228070</td>\n",
       "      <td>38.570175</td>\n",
       "    </tr>\n",
       "    <tr>\n",
       "      <th>Trinadad&amp;Tobago</th>\n",
       "      <td>41.315789</td>\n",
       "      <td>212812.315789</td>\n",
       "      <td>8.263158</td>\n",
       "      <td>0.000000</td>\n",
       "      <td>222.421053</td>\n",
       "      <td>37.368421</td>\n",
       "    </tr>\n",
       "    <tr>\n",
       "      <th>Dominican-Republic</th>\n",
       "      <td>37.728571</td>\n",
       "      <td>192089.557143</td>\n",
       "      <td>7.114286</td>\n",
       "      <td>1476.057143</td>\n",
       "      <td>25.171429</td>\n",
       "      <td>42.471429</td>\n",
       "    </tr>\n",
       "    <tr>\n",
       "      <th>El-Salvador</th>\n",
       "      <td>34.132075</td>\n",
       "      <td>254392.971698</td>\n",
       "      <td>6.839623</td>\n",
       "      <td>574.320755</td>\n",
       "      <td>31.113208</td>\n",
       "      <td>36.792453</td>\n",
       "    </tr>\n",
       "    <tr>\n",
       "      <th>Portugal</th>\n",
       "      <td>40.297297</td>\n",
       "      <td>148621.675676</td>\n",
       "      <td>6.702703</td>\n",
       "      <td>228.378378</td>\n",
       "      <td>0.000000</td>\n",
       "      <td>41.891892</td>\n",
       "    </tr>\n",
       "    <tr>\n",
       "      <th>Mexico</th>\n",
       "      <td>33.290824</td>\n",
       "      <td>289724.746501</td>\n",
       "      <td>6.135303</td>\n",
       "      <td>347.027994</td>\n",
       "      <td>24.744946</td>\n",
       "      <td>40.340591</td>\n",
       "    </tr>\n",
       "    <tr>\n",
       "      <th>Guatemala</th>\n",
       "      <td>32.421875</td>\n",
       "      <td>265163.343750</td>\n",
       "      <td>6.031250</td>\n",
       "      <td>230.828125</td>\n",
       "      <td>24.906250</td>\n",
       "      <td>39.234375</td>\n",
       "    </tr>\n",
       "  </tbody>\n",
       "</table>\n",
       "</div>"
      ],
      "text/plain": [
       "                                   age         fnlwgt  education-num  \\\n",
       "native-country                                                         \n",
       " Taiwan                      33.823529  186441.392157      13.294118   \n",
       " India                       38.090000  168539.090000      12.430000   \n",
       " Iran                        39.418605  182211.395349      12.395349   \n",
       " France                      38.965517  192050.896552      12.241379   \n",
       " Japan                       38.241935  185703.629032      11.435484   \n",
       " China                       42.533333  179047.986667      11.120000   \n",
       " England                     41.155556  182375.166667      11.011111   \n",
       " Germany                     39.255474  189325.313869      10.985401   \n",
       " Thailand                    34.944444  184166.666667      10.944444   \n",
       " South                       38.750000  163481.787500      10.912500   \n",
       " Philippines                 39.444444  166115.116162      10.868687   \n",
       " Hungary                     49.384615  180488.461538      10.769231   \n",
       " Canada                      42.545455  179852.933884      10.652893   \n",
       " Hong                        33.650000  222352.750000      10.600000   \n",
       " ?                           38.725557  193300.897084      10.598628   \n",
       " Outlying-US(Guam-USVI-etc)  38.714286  204487.785714      10.285714   \n",
       " Scotland                    40.416667  168946.083333      10.250000   \n",
       " United-States               38.655674  187069.021152      10.169455   \n",
       " Poland                      43.116667  183904.016667      10.100000   \n",
       " Ireland                     36.458333  137997.583333      10.083333   \n",
       " Holand-Netherlands          32.000000   27882.000000      10.000000   \n",
       " Yugoslavia                  38.812500  215963.937500       9.937500   \n",
       " Jamaica                     35.592593  212155.234568       9.851852   \n",
       " Greece                      46.206897  143466.206897       9.724138   \n",
       " Vietnam                     34.059701  163283.925373       9.656716   \n",
       " Cuba                        45.768421  246291.347368       9.600000   \n",
       " Ecuador                     36.642857  185858.821429       9.464286   \n",
       " Columbia                    39.711864  225149.406780       9.372881   \n",
       " Peru                        35.258065  274559.354839       9.354839   \n",
       " Haiti                       38.272727  209019.431818       8.931818   \n",
       " Italy                       46.424658  181685.397260       8.849315   \n",
       " Cambodia                    37.789474  193080.368421       8.789474   \n",
       " Nicaragua                   33.617647  294574.117647       8.705882   \n",
       " Honduras                    33.846154  255591.307692       8.692308   \n",
       " Laos                        34.722222  211108.000000       8.555556   \n",
       " Puerto-Rico                 40.508772  202535.728070       8.289474   \n",
       " Trinadad&Tobago             41.315789  212812.315789       8.263158   \n",
       " Dominican-Republic          37.728571  192089.557143       7.114286   \n",
       " El-Salvador                 34.132075  254392.971698       6.839623   \n",
       " Portugal                    40.297297  148621.675676       6.702703   \n",
       " Mexico                      33.290824  289724.746501       6.135303   \n",
       " Guatemala                   32.421875  265163.343750       6.031250   \n",
       "\n",
       "                             capital-gain  capital-loss  hours-per-week  \n",
       "native-country                                                           \n",
       " Taiwan                       2147.039216    154.823529       38.882353  \n",
       " India                        3604.920000    131.120000       41.530000  \n",
       " Iran                         2044.651163    126.813953       43.976744  \n",
       " France                        547.034483      0.000000       45.068966  \n",
       " Japan                        2546.225806     57.532258       43.693548  \n",
       " China                         366.480000    179.520000       37.786667  \n",
       " England                       864.722222     82.755556       41.833333  \n",
       " Germany                       887.094891     77.978102       41.014599  \n",
       " Thailand                        0.000000      0.000000       45.444444  \n",
       " South                        1869.737500    169.425000       42.412500  \n",
       " Philippines                  1018.343434     98.954545       39.595960  \n",
       " Hungary                       716.615385    128.307692       35.615385  \n",
       " Canada                       1504.132231    129.933884       40.404959  \n",
       " Hong                            0.000000     98.850000       40.900000  \n",
       " ?                            1806.518010    118.265866       41.512864  \n",
       " Outlying-US(Guam-USVI-etc)      0.000000      0.000000       41.857143  \n",
       " Scotland                      431.500000      0.000000       41.250000  \n",
       " United-States                1089.229928     88.510593       40.447755  \n",
       " Poland                        684.283333     34.183333       38.333333  \n",
       " Ireland                       324.458333     78.625000       42.416667  \n",
       " Holand-Netherlands              0.000000   2205.000000       40.000000  \n",
       " Yugoslavia                    347.250000      0.000000       44.562500  \n",
       " Jamaica                       475.135802      0.000000       38.592593  \n",
       " Greece                       1283.896552    295.448276       44.241379  \n",
       " Vietnam                       660.597015     87.298507       37.343284  \n",
       " Cuba                          367.231579     70.042105       39.157895  \n",
       " Ecuador                       527.607143      0.000000       39.571429  \n",
       " Columbia                      180.610169     27.152542       39.067797  \n",
       " Peru                           59.064516     59.612903       35.387097  \n",
       " Haiti                           0.000000     73.295455       36.909091  \n",
       " Italy                         611.506849     27.082192       41.602740  \n",
       " Cambodia                     1027.842105    183.052632       40.894737  \n",
       " Nicaragua                     199.823529    100.794118       36.176471  \n",
       " Honduras                        0.000000    146.307692       36.307692  \n",
       " Laos                          160.277778      0.000000       40.333333  \n",
       " Puerto-Rico                   317.192982     55.228070       38.570175  \n",
       " Trinadad&Tobago                 0.000000    222.421053       37.368421  \n",
       " Dominican-Republic           1476.057143     25.171429       42.471429  \n",
       " El-Salvador                   574.320755     31.113208       36.792453  \n",
       " Portugal                      228.378378      0.000000       41.891892  \n",
       " Mexico                        347.027994     24.744946       40.340591  \n",
       " Guatemala                     230.828125     24.906250       39.234375  "
      ]
     },
     "execution_count": 64,
     "metadata": {},
     "output_type": "execute_result"
    }
   ],
   "source": [
    "df.groupby('native-country').mean().sort_values('education-num', ascending=False)"
   ]
  },
  {
   "cell_type": "code",
   "execution_count": null,
   "metadata": {},
   "outputs": [],
   "source": []
  }
 ],
 "metadata": {
  "kernelspec": {
   "display_name": "Python 3",
   "language": "python",
   "name": "python3"
  },
  "language_info": {
   "codemirror_mode": {
    "name": "ipython",
    "version": 3
   },
   "file_extension": ".py",
   "mimetype": "text/x-python",
   "name": "python",
   "nbconvert_exporter": "python",
   "pygments_lexer": "ipython3",
   "version": "3.6.9"
  }
 },
 "nbformat": 4,
 "nbformat_minor": 2
}
